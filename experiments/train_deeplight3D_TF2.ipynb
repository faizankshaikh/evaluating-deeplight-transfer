{
  "cells": [
    {
      "cell_type": "markdown",
      "metadata": {
        "id": "view-in-github",
        "colab_type": "text"
      },
      "source": [
        "<a href=\"https://colab.research.google.com/github/faizankshaikh/evaluating-deeplight-transfer/blob/master/experiments/train_deeplight3D_TF2.ipynb\" target=\"_parent\"><img src=\"https://colab.research.google.com/assets/colab-badge.svg\" alt=\"Open In Colab\"/></a>"
      ]
    },
    {
      "cell_type": "markdown",
      "source": [
        "# 1. Prepare notebook"
      ],
      "metadata": {
        "id": "VsI-JcVqcNnm"
      }
    },
    {
      "cell_type": "code",
      "source": [
        "#@title 1.1 Import required libs and modules\n",
        "\n",
        "!pip install -q wandb"
      ],
      "metadata": {
        "colab": {
          "base_uri": "https://localhost:8080/"
        },
        "cellView": "form",
        "id": "DKMksfK3sKGt",
        "outputId": "21573831-06a4-4462-86bf-31a32f688d84"
      },
      "execution_count": 1,
      "outputs": [
        {
          "output_type": "stream",
          "name": "stdout",
          "text": [
            "\u001b[K     |████████████████████████████████| 1.8 MB 5.0 MB/s \n",
            "\u001b[K     |████████████████████████████████| 145 kB 50.1 MB/s \n",
            "\u001b[K     |████████████████████████████████| 181 kB 48.8 MB/s \n",
            "\u001b[K     |████████████████████████████████| 63 kB 1.2 MB/s \n",
            "\u001b[?25h  Building wheel for pathtools (setup.py) ... \u001b[?25l\u001b[?25hdone\n"
          ]
        }
      ]
    },
    {
      "cell_type": "code",
      "execution_count": 2,
      "metadata": {
        "id": "xMJbCIdY1Lc6",
        "cellView": "form"
      },
      "outputs": [],
      "source": [
        "#@title 1.1 Import required libs and modules (contd)\n",
        "\n",
        "import os\n",
        "import wandb\n",
        "import numpy as np\n",
        "from glob import glob\n",
        "import matplotlib.pyplot as plt\n",
        "\n",
        "import tensorflow as tf\n",
        "from tensorflow.keras import Model\n",
        "from tensorflow.keras.layers import (\n",
        "    BatchNormalization,\n",
        "    Conv3D,\n",
        "    Dense,\n",
        "    GlobalAveragePooling3D,\n",
        "    Input,\n",
        "    SpatialDropout3D,\n",
        ")\n",
        "from tensorflow.keras.optimizers import Adam\n",
        "from tensorflow.keras.callbacks import EarlyStopping"
      ]
    },
    {
      "cell_type": "code",
      "source": [
        "#@title 1.1 Import required libs and modules\n",
        "\n",
        "wandb.login()\n",
        "wandb.init(project=\"DeepLight\")"
      ],
      "metadata": {
        "colab": {
          "base_uri": "https://localhost:8080/",
          "height": 424,
          "referenced_widgets": [
            "08c0832bd62b4792aaaa3a98891f8fc0",
            "10b548b809a14929bd80eb24819f875a",
            "73bd33373b8f49ef97c9143c09421525",
            "e993ef3651814c1fad1fc171f1fec649",
            "1b34c5a510e0417ba3c2db141f29c0a5",
            "02a41c1863124f189e99291e664dbcd4",
            "9ec52b6543cc4912aad10950d7bf6dda",
            "75f66579d14b4e95b317f802d1f7b651"
          ]
        },
        "cellView": "form",
        "id": "12JB4Qwotqhw",
        "outputId": "0bce146e-25d1-4033-f666-acde7543620b"
      },
      "execution_count": 22,
      "outputs": [
        {
          "output_type": "stream",
          "name": "stderr",
          "text": [
            "\u001b[34m\u001b[1mwandb\u001b[0m: \u001b[33mWARNING\u001b[0m Calling wandb.login() after wandb.init() has no effect.\n"
          ]
        },
        {
          "output_type": "display_data",
          "data": {
            "text/plain": [
              "<IPython.core.display.HTML object>"
            ],
            "text/html": [
              "Finishing last run (ID:rlp9zttl) before initializing another..."
            ]
          },
          "metadata": {}
        },
        {
          "output_type": "display_data",
          "data": {
            "text/plain": [
              "<IPython.core.display.HTML object>"
            ],
            "text/html": [
              "Waiting for W&B process to finish... <strong style=\"color:green\">(success).</strong>"
            ]
          },
          "metadata": {}
        },
        {
          "output_type": "display_data",
          "data": {
            "text/plain": [
              "VBox(children=(Label(value='10.429 MB of 10.429 MB uploaded (0.000 MB deduped)\\r'), FloatProgress(value=1.0, m…"
            ],
            "application/vnd.jupyter.widget-view+json": {
              "version_major": 2,
              "version_minor": 0,
              "model_id": "08c0832bd62b4792aaaa3a98891f8fc0"
            }
          },
          "metadata": {}
        },
        {
          "output_type": "display_data",
          "data": {
            "text/plain": [
              "<IPython.core.display.HTML object>"
            ],
            "text/html": [
              "<style>\n",
              "    table.wandb td:nth-child(1) { padding: 0 10px; text-align: left ; width: auto;} td:nth-child(2) {text-align: left ; width: 100%}\n",
              "    .wandb-row { display: flex; flex-direction: row; flex-wrap: wrap; justify-content: flex-start; width: 100% }\n",
              "    .wandb-col { display: flex; flex-direction: column; flex-basis: 100%; flex: 1; padding: 10px; }\n",
              "    </style>\n",
              "<div class=\"wandb-row\"><div class=\"wandb-col\"><h3>Run history:</h3><br/><table class=\"wandb\"><tr><td>accuracy</td><td>▁▁▁▁▂▃▃▄▄▄▄▄▅▅▅▆▅▆▆▆▆▆▇▇▇▇█▇▇████</td></tr><tr><td>epoch</td><td>▁▁▁▂▂▂▂▃▃▃▃▃▄▄▄▄▅▅▅▅▅▆▆▆▆▆▇▇▇▇███</td></tr><tr><td>loss</td><td>█▇▇▇▆▆▆▅▅▅▅▄▄▄▄▃▄▃▂▃▃▂▂▂▂▂▁▁▁▁▁▁▁</td></tr><tr><td>val_accuracy</td><td>▁▃▄▅▅▆▆▆▇▇▇▇▇▇▇▇▇▇▇▇▇▇███████████</td></tr><tr><td>val_loss</td><td>█▇▇▇▆▆▆▅▅▅▅▄▄▄▄▃▃▃▃▃▂▂▂▂▂▂▂▁▁▁▁▁▁</td></tr></table><br/></div><div class=\"wandb-col\"><h3>Run summary:</h3><br/><table class=\"wandb\"><tr><td>accuracy</td><td>0.55757</td></tr><tr><td>best_epoch</td><td>31</td></tr><tr><td>best_val_loss</td><td>0.8875</td></tr><tr><td>epoch</td><td>32</td></tr><tr><td>loss</td><td>0.98971</td></tr><tr><td>val_accuracy</td><td>0.63003</td></tr><tr><td>val_loss</td><td>0.88901</td></tr></table><br/></div></div>"
            ]
          },
          "metadata": {}
        },
        {
          "output_type": "display_data",
          "data": {
            "text/plain": [
              "<IPython.core.display.HTML object>"
            ],
            "text/html": [
              "Synced <strong style=\"color:#cdcd00\">autumn-lion-2</strong>: <a href=\"https://wandb.ai/jalfaizy/DeepLight/runs/rlp9zttl\" target=\"_blank\">https://wandb.ai/jalfaizy/DeepLight/runs/rlp9zttl</a><br/>Synced 5 W&B file(s), 1 media file(s), 0 artifact file(s) and 1 other file(s)"
            ]
          },
          "metadata": {}
        },
        {
          "output_type": "display_data",
          "data": {
            "text/plain": [
              "<IPython.core.display.HTML object>"
            ],
            "text/html": [
              "Find logs at: <code>./wandb/run-20220626_121736-rlp9zttl/logs</code>"
            ]
          },
          "metadata": {}
        },
        {
          "output_type": "display_data",
          "data": {
            "text/plain": [
              "<IPython.core.display.HTML object>"
            ],
            "text/html": [
              "Successfully finished last run (ID:rlp9zttl). Initializing new run:<br/>"
            ]
          },
          "metadata": {}
        },
        {
          "output_type": "display_data",
          "data": {
            "text/plain": [
              "<IPython.core.display.HTML object>"
            ],
            "text/html": [
              "Tracking run with wandb version 0.12.19"
            ]
          },
          "metadata": {}
        },
        {
          "output_type": "display_data",
          "data": {
            "text/plain": [
              "<IPython.core.display.HTML object>"
            ],
            "text/html": [
              "Run data is saved locally in <code>/content/wandb/run-20220626_131423-1j2jxnjl</code>"
            ]
          },
          "metadata": {}
        },
        {
          "output_type": "display_data",
          "data": {
            "text/plain": [
              "<IPython.core.display.HTML object>"
            ],
            "text/html": [
              "Syncing run <strong><a href=\"https://wandb.ai/jalfaizy/DeepLight/runs/1j2jxnjl\" target=\"_blank\">kind-serenity-3</a></strong> to <a href=\"https://wandb.ai/jalfaizy/DeepLight\" target=\"_blank\">Weights & Biases</a> (<a href=\"https://wandb.me/run\" target=\"_blank\">docs</a>)<br/>"
            ]
          },
          "metadata": {}
        },
        {
          "output_type": "execute_result",
          "data": {
            "text/html": [
              "<button onClick=\"this.nextSibling.style.display='block';this.style.display='none';\">Display W&B run</button><iframe src=\"https://wandb.ai/jalfaizy/DeepLight/runs/1j2jxnjl?jupyter=true\" style=\"border:none;width:100%;height:420px;display:none;\"></iframe>"
            ],
            "text/plain": [
              "<wandb.sdk.wandb_run.Run at 0x7f4829809650>"
            ]
          },
          "metadata": {},
          "execution_count": 22
        }
      ]
    },
    {
      "cell_type": "code",
      "execution_count": 4,
      "metadata": {
        "colab": {
          "base_uri": "https://localhost:8080/"
        },
        "id": "AZBBVMFx192r",
        "outputId": "df3a668f-41a0-4872-a95a-b0c242276929",
        "cellView": "form"
      },
      "outputs": [
        {
          "output_type": "stream",
          "name": "stdout",
          "text": [
            "Mounted at /content/drive\n"
          ]
        }
      ],
      "source": [
        "#@title 1.2 Connect google drive\n",
        "\n",
        "from google.colab import drive\n",
        "\n",
        "drive.mount(\"/content/drive\")"
      ]
    },
    {
      "cell_type": "markdown",
      "source": [
        "# 2. Setup dataset for training"
      ],
      "metadata": {
        "id": "1YOk30tRcla8"
      }
    },
    {
      "cell_type": "code",
      "execution_count": 5,
      "metadata": {
        "colab": {
          "base_uri": "https://localhost:8080/"
        },
        "id": "7UwDyL-82NfC",
        "outputId": "e9bc7f75-cb0b-4fbf-a84e-048238f03800",
        "cellView": "form"
      },
      "outputs": [
        {
          "output_type": "stream",
          "name": "stdout",
          "text": [
            "Archive:  /content/drive/MyDrive/MAID/CV/data/data.zip\n",
            "warning:  skipped \"../\" path component(s) in ../data/sub-100307/func/sub-100307_task-WM_run-LR_space-MNI152NLin6Asym_res-2_desc-tfr.tfrecords\n",
            "  inflating: data/sub-100307/func/sub-100307_task-WM_run-LR_space-MNI152NLin6Asym_res-2_desc-tfr.tfrecords  \n",
            "warning:  skipped \"../\" path component(s) in ../data/sub-100408/func/sub-100408_task-WM_run-LR_space-MNI152NLin6Asym_res-2_desc-tfr.tfrecords\n",
            "  inflating: data/sub-100408/func/sub-100408_task-WM_run-LR_space-MNI152NLin6Asym_res-2_desc-tfr.tfrecords  \n",
            "warning:  skipped \"../\" path component(s) in ../data/sub-101006/func/sub-101006_task-WM_run-LR_space-MNI152NLin6Asym_res-2_desc-tfr.tfrecords\n",
            "  inflating: data/sub-101006/func/sub-101006_task-WM_run-LR_space-MNI152NLin6Asym_res-2_desc-tfr.tfrecords  \n",
            "warning:  skipped \"../\" path component(s) in ../data/sub-101107/func/sub-101107_task-WM_run-LR_space-MNI152NLin6Asym_res-2_desc-tfr.tfrecords\n",
            "  inflating: data/sub-101107/func/sub-101107_task-WM_run-LR_space-MNI152NLin6Asym_res-2_desc-tfr.tfrecords  \n",
            "warning:  skipped \"../\" path component(s) in ../data/sub-101309/func/sub-101309_task-WM_run-LR_space-MNI152NLin6Asym_res-2_desc-tfr.tfrecords\n",
            "  inflating: data/sub-101309/func/sub-101309_task-WM_run-LR_space-MNI152NLin6Asym_res-2_desc-tfr.tfrecords  \n",
            "warning:  skipped \"../\" path component(s) in ../data/sub-101410/func/sub-101410_task-WM_run-LR_space-MNI152NLin6Asym_res-2_desc-tfr.tfrecords\n",
            "  inflating: data/sub-101410/func/sub-101410_task-WM_run-LR_space-MNI152NLin6Asym_res-2_desc-tfr.tfrecords  \n",
            "warning:  skipped \"../\" path component(s) in ../data/sub-101915/func/sub-101915_task-WM_run-LR_space-MNI152NLin6Asym_res-2_desc-tfr.tfrecords\n",
            "  inflating: data/sub-101915/func/sub-101915_task-WM_run-LR_space-MNI152NLin6Asym_res-2_desc-tfr.tfrecords  \n",
            "warning:  skipped \"../\" path component(s) in ../data/sub-102008/func/sub-102008_task-WM_run-LR_space-MNI152NLin6Asym_res-2_desc-tfr.tfrecords\n",
            "  inflating: data/sub-102008/func/sub-102008_task-WM_run-LR_space-MNI152NLin6Asym_res-2_desc-tfr.tfrecords  \n",
            "warning:  skipped \"../\" path component(s) in ../data/sub-102311/func/sub-102311_task-WM_run-LR_space-MNI152NLin6Asym_res-2_desc-tfr.tfrecords\n",
            "  inflating: data/sub-102311/func/sub-102311_task-WM_run-LR_space-MNI152NLin6Asym_res-2_desc-tfr.tfrecords  \n",
            "warning:  skipped \"../\" path component(s) in ../data/sub-102816/func/sub-102816_task-WM_run-LR_space-MNI152NLin6Asym_res-2_desc-tfr.tfrecords\n",
            "  inflating: data/sub-102816/func/sub-102816_task-WM_run-LR_space-MNI152NLin6Asym_res-2_desc-tfr.tfrecords  \n",
            "warning:  skipped \"../\" path component(s) in ../data/sub-103111/func/sub-103111_task-WM_run-LR_space-MNI152NLin6Asym_res-2_desc-tfr.tfrecords\n",
            "  inflating: data/sub-103111/func/sub-103111_task-WM_run-LR_space-MNI152NLin6Asym_res-2_desc-tfr.tfrecords  \n",
            "warning:  skipped \"../\" path component(s) in ../data/sub-103414/func/sub-103414_task-WM_run-LR_space-MNI152NLin6Asym_res-2_desc-tfr.tfrecords\n",
            "  inflating: data/sub-103414/func/sub-103414_task-WM_run-LR_space-MNI152NLin6Asym_res-2_desc-tfr.tfrecords  \n",
            "warning:  skipped \"../\" path component(s) in ../data/sub-103515/func/sub-103515_task-WM_run-LR_space-MNI152NLin6Asym_res-2_desc-tfr.tfrecords\n",
            "  inflating: data/sub-103515/func/sub-103515_task-WM_run-LR_space-MNI152NLin6Asym_res-2_desc-tfr.tfrecords  \n",
            "warning:  skipped \"../\" path component(s) in ../data/sub-103818/func/sub-103818_task-WM_run-LR_space-MNI152NLin6Asym_res-2_desc-tfr.tfrecords\n",
            "  inflating: data/sub-103818/func/sub-103818_task-WM_run-LR_space-MNI152NLin6Asym_res-2_desc-tfr.tfrecords  \n",
            "warning:  skipped \"../\" path component(s) in ../data/sub-104820/func/sub-104820_task-WM_run-LR_space-MNI152NLin6Asym_res-2_desc-tfr.tfrecords\n",
            "  inflating: data/sub-104820/func/sub-104820_task-WM_run-LR_space-MNI152NLin6Asym_res-2_desc-tfr.tfrecords  \n",
            "warning:  skipped \"../\" path component(s) in ../data/sub-105014/func/sub-105014_task-WM_run-LR_space-MNI152NLin6Asym_res-2_desc-tfr.tfrecords\n",
            "  inflating: data/sub-105014/func/sub-105014_task-WM_run-LR_space-MNI152NLin6Asym_res-2_desc-tfr.tfrecords  \n",
            "warning:  skipped \"../\" path component(s) in ../data/sub-105115/func/sub-105115_task-WM_run-LR_space-MNI152NLin6Asym_res-2_desc-tfr.tfrecords\n",
            "  inflating: data/sub-105115/func/sub-105115_task-WM_run-LR_space-MNI152NLin6Asym_res-2_desc-tfr.tfrecords  \n",
            "warning:  skipped \"../\" path component(s) in ../data/sub-105216/func/sub-105216_task-WM_run-LR_space-MNI152NLin6Asym_res-2_desc-tfr.tfrecords\n",
            "  inflating: data/sub-105216/func/sub-105216_task-WM_run-LR_space-MNI152NLin6Asym_res-2_desc-tfr.tfrecords  \n",
            "warning:  skipped \"../\" path component(s) in ../data/sub-106016/func/sub-106016_task-WM_run-LR_space-MNI152NLin6Asym_res-2_desc-tfr.tfrecords\n",
            "  inflating: data/sub-106016/func/sub-106016_task-WM_run-LR_space-MNI152NLin6Asym_res-2_desc-tfr.tfrecords  \n",
            "warning:  skipped \"../\" path component(s) in ../data/sub-106319/func/sub-106319_task-WM_run-LR_space-MNI152NLin6Asym_res-2_desc-tfr.tfrecords\n",
            "  inflating: data/sub-106319/func/sub-106319_task-WM_run-LR_space-MNI152NLin6Asym_res-2_desc-tfr.tfrecords  \n"
          ]
        }
      ],
      "source": [
        "#@title 2.1 Download preprocessed data\n",
        "\n",
        "!unzip /content/drive/MyDrive/MAID/CV/data/data.zip"
      ]
    },
    {
      "cell_type": "code",
      "execution_count": 6,
      "metadata": {
        "id": "_sCFO1_M2oUy",
        "cellView": "form"
      },
      "outputs": [],
      "source": [
        "#@title 2.2 Define data path\n",
        "\n",
        "data_path = \"data/\""
      ]
    },
    {
      "cell_type": "code",
      "execution_count": 7,
      "metadata": {
        "id": "t7uf6NgF3Bn7",
        "cellView": "form",
        "colab": {
          "base_uri": "https://localhost:8080/"
        },
        "outputId": "f364c426-1a2e-4237-e8e0-964da0dd7c64"
      },
      "outputs": [
        {
          "output_type": "stream",
          "name": "stdout",
          "text": [
            "Training subjects:  [101410, 102008, 101915, 105115, 106016, 103111, 100307, 103414, 100408, 101006, 101309, 105216, 101107, 102816, 106319]\n",
            "Validation subjects:  [102311, 103515, 103818, 104820, 105014]\n"
          ]
        }
      ],
      "source": [
        "#@title 2.3 Create training and validation dataset\n",
        "\n",
        "subjects = np.sort(\n",
        "    np.unique(\n",
        "        [int(p.split(\"sub-\")[1]) for p in os.listdir(data_path) if p.startswith(\"sub-\")]\n",
        "    )\n",
        ")\n",
        "\n",
        "subjects_training = np.random.choice(\n",
        "    subjects, (subjects.size * 3) // 4, replace=False\n",
        ")\n",
        "\n",
        "subjects_validation = np.array([s for s in subjects if s not in subjects_training])\n",
        "\n",
        "print(\"Training subjects: \", list(subjects_training))\n",
        "\n",
        "print(\"Validation subjects: \", list(subjects_validation))"
      ]
    },
    {
      "cell_type": "code",
      "execution_count": 8,
      "metadata": {
        "id": "DOWuyeqL3FHj",
        "cellView": "form"
      },
      "outputs": [],
      "source": [
        "#@title 2.3 Create training and validation dataset (contd)\n",
        "\n",
        "train_files = []\n",
        "for subject in subjects_training:\n",
        "    train_files.extend(glob(\"data/sub-\" + str(subject) + \"/func/*.tfrecords\"))\n",
        "\n",
        "validation_files = []\n",
        "for subject in subjects_validation:\n",
        "    validation_files.extend(glob(\"data/sub-\" + str(subject) + \"/func/*.tfrecords\"))"
      ]
    },
    {
      "cell_type": "code",
      "execution_count": 9,
      "metadata": {
        "id": "TZ5iQCld3Ik7",
        "cellView": "form"
      },
      "outputs": [],
      "source": [
        "#@title 2.3 Create training and validation dataset (contd)\n",
        "\n",
        "# functions to read preprocessed data \n",
        "# taken from https://github.com/athms/evaluating-deeplight-transfer\n",
        "\n",
        "\n",
        "def parse_func_tfr(\n",
        "    example_proto,\n",
        "    nx,\n",
        "    ny,\n",
        "    nz,\n",
        "    n_onehot=None,\n",
        "    onehot_idx=None,\n",
        "    only_parse_XY=False,\n",
        "    transpose_xyz=False,\n",
        "    add_channel_dim=False,\n",
        "):\n",
        "    \"\"\"Parse TFR-data\n",
        "    Args:\n",
        "        example_proto: Single example from TFR-file\n",
        "        nx, ny, nz: Integers indicating the x-/y-/z-dimensions\n",
        "            of the fMRI data stored in the TFR-files\n",
        "        n_onehot: Total number of states across tasks\n",
        "        onehot_idx: idx that is returned from state-onehot;\n",
        "            e.g., if state-onehot encoding has 20 values in total,\n",
        "            but we only want to train with values 5-10,\n",
        "            onehot_idx can be set to np.arange(4,10) \n",
        "    Returns:\n",
        "        Parsed data stored in TFR-files. Specifically, the:\n",
        "        volume: Ndarray of fMRI volume activations\n",
        "        task_id: Integer ID of the HCP task \n",
        "        subject_id: Integer ID of the subject\n",
        "        run_id: Integer ID of the run\n",
        "        tr: TR of fmri volume (float)\n",
        "        state: Integer cognitive state of the volume\n",
        "        state_onehot: One-hot encoding of the states\n",
        "        only_parse_XY: Bool indicating whether only volume \n",
        "            and y onehot encoding should be returned,\n",
        "            as needed for integration with keras. If False,\n",
        "            volume, task_id, subject_id, run_id, volume_idx,\n",
        "            label, label_onehot are returned\n",
        "    \"\"\"\n",
        "    features = {\n",
        "        \"volume\": tf.io.FixedLenFeature([nx * ny * nz], tf.float32),\n",
        "        \"task_id\": tf.io.FixedLenFeature([1], tf.int64),\n",
        "        \"subject_id\": tf.io.FixedLenFeature([1], tf.int64),\n",
        "        \"run_id\": tf.io.FixedLenFeature([1], tf.int64),\n",
        "        \"tr\": tf.io.FixedLenFeature([1], tf.float32),\n",
        "        \"state\": tf.io.FixedLenFeature([1], tf.int64),\n",
        "        \"onehot\": tf.io.FixedLenFeature([n_onehot], tf.int64),\n",
        "    }\n",
        "    parsed_features = tf.io.parse_single_example(example_proto, features)\n",
        "    if onehot_idx is None:\n",
        "        onehot_idx = np.arange(n_onehot)\n",
        "    volume = tf.cast(tf.reshape(parsed_features[\"volume\"], [nx, ny, nz]), tf.float32)\n",
        "    if add_channel_dim:\n",
        "        volume = tf.cast(\n",
        "            tf.reshape(parsed_features[\"volume\"], [nx, ny, nz, 1]), tf.float32\n",
        "        )\n",
        "        if transpose_xyz:\n",
        "            volume = tf.transpose(volume, perm=[2, 1, 0, 3])\n",
        "    elif transpose_xyz:\n",
        "        volume = tf.transpose(volume, perm=[2, 1, 0])\n",
        "    volume = tf.where(tf.math.is_nan(volume), tf.zeros_like(volume), volume)\n",
        "    volume = tf.where(tf.math.is_inf(volume), tf.ones_like(volume) * 1e4, volume)\n",
        "    onehot = tf.cast(tf.gather(parsed_features[\"onehot\"], onehot_idx), tf.int64)\n",
        "    if only_parse_XY:\n",
        "        return (volume, onehot)\n",
        "    else:\n",
        "        return {\n",
        "            \"volume\": volume,\n",
        "            \"onehot\": onehot,\n",
        "            \"task_id\": parsed_features[\"task_id\"],\n",
        "            \"subject_id\": parsed_features[\"subject_id\"],\n",
        "            \"run_id\": parsed_features[\"run_id\"],\n",
        "            \"tr\": parsed_features[\"tr\"],\n",
        "            \"state\": parsed_features[\"state\"],\n",
        "        }\n",
        "\n",
        "\n",
        "def make_dataset(\n",
        "    files,\n",
        "    n_onehot,\n",
        "    batch_size,\n",
        "    nx=91,\n",
        "    ny=109,\n",
        "    nz=91,\n",
        "    onehot_idx=None,\n",
        "    repeat=True,\n",
        "    shuffle=True,\n",
        "    only_parse_XY=False,\n",
        "    n_workers=4,\n",
        "    shuffle_buffer_size=500,\n",
        "    scope_name=\"train\",\n",
        "    transpose_xyz=False,\n",
        "    add_channel_dim=False,\n",
        "):\n",
        "    \"\"\"Make iteratable dataset from TFR files.\"\"\"\n",
        "    if onehot_idx is None:\n",
        "        onehot_idx = np.arange(n_onehot)\n",
        "    dataset = tf.data.TFRecordDataset(files, compression_type='GZIP')\n",
        "    dataset = dataset.map(\n",
        "        lambda x: parse_func_tfr(\n",
        "            x,\n",
        "            nx=nx,\n",
        "            ny=ny,\n",
        "            nz=nx,\n",
        "            n_onehot=n_onehot,\n",
        "            onehot_idx=onehot_idx,\n",
        "            only_parse_XY=only_parse_XY,\n",
        "            transpose_xyz=transpose_xyz,\n",
        "            add_channel_dim=add_channel_dim,\n",
        "        ),\n",
        "        n_workers,\n",
        "    )\n",
        "    dataset = dataset.prefetch(tf.data.experimental.AUTOTUNE)\n",
        "    if shuffle:\n",
        "        dataset = dataset.shuffle(buffer_size=shuffle_buffer_size)\n",
        "    dataset = dataset.batch(batch_size)\n",
        "    if repeat:\n",
        "        dataset = dataset.repeat()\n",
        "    return dataset"
      ]
    },
    {
      "cell_type": "code",
      "execution_count": 10,
      "metadata": {
        "id": "Bz9PxOFn3gdS",
        "cellView": "form"
      },
      "outputs": [],
      "source": [
        "#@title 2.3 Create training and validation dataset (contd)\n",
        "\n",
        "# define parameters\n",
        "n_onehot = 20\n",
        "n_workers = 4\n",
        "batch_size = 20\n",
        "training_steps = 100\n",
        "validation_steps = 100\n",
        "shuffle_buffer_size = 50\n",
        "input_shape = (91, 109, 91)\n",
        "onehot_idx = np.array([16, 17, 18, 19])"
      ]
    },
    {
      "cell_type": "code",
      "execution_count": 11,
      "metadata": {
        "id": "Qdnw_RcJ3hgC",
        "cellView": "form"
      },
      "outputs": [],
      "source": [
        "#@title 2.3 Create training and validation dataset (contd)\n",
        "\n",
        "train_dataset = make_dataset(\n",
        "    files=train_files,\n",
        "    batch_size=batch_size,\n",
        "    nx=input_shape[0],\n",
        "    ny=input_shape[1],\n",
        "    nz=input_shape[2],\n",
        "    shuffle=True,\n",
        "    only_parse_XY=True,\n",
        "    transpose_xyz=True,\n",
        "    add_channel_dim=True,\n",
        "    repeat=True,\n",
        "    n_onehot=n_onehot,\n",
        "    onehot_idx=onehot_idx,\n",
        "    shuffle_buffer_size=shuffle_buffer_size,\n",
        "    n_workers=n_workers,\n",
        ")\n",
        "\n",
        "validation_dataset = make_dataset(\n",
        "    files=validation_files,\n",
        "    batch_size=batch_size,\n",
        "    nx=input_shape[0],\n",
        "    ny=input_shape[1],\n",
        "    nz=input_shape[2],\n",
        "    shuffle=True,\n",
        "    only_parse_XY=True,\n",
        "    transpose_xyz=True,\n",
        "    add_channel_dim=True,\n",
        "    repeat=True,\n",
        "    n_onehot=n_onehot,\n",
        "    onehot_idx=onehot_idx,\n",
        "    shuffle_buffer_size=shuffle_buffer_size,\n",
        "    n_workers=n_workers,\n",
        ")"
      ]
    },
    {
      "cell_type": "markdown",
      "source": [
        "# 3. Train DL model"
      ],
      "metadata": {
        "id": "vusSWpzuh4wE"
      }
    },
    {
      "cell_type": "code",
      "source": [
        "#@title 3.1 Define hyperparameters\n",
        "\n",
        "epochs = 50\n",
        "n_classes = 4\n",
        "learning_rate = 0.001"
      ],
      "metadata": {
        "id": "PeKxErzbhxQK"
      },
      "execution_count": 23,
      "outputs": []
    },
    {
      "cell_type": "code",
      "execution_count": 24,
      "metadata": {
        "id": "oPbnMv2C3ldb"
      },
      "outputs": [],
      "source": [
        "#@title 3.2 Create model\n",
        "\n",
        "def conv_block(x, filters, kernel_size, strides, dropout_rate):\n",
        "    x = Conv3D(\n",
        "        filters=filters,\n",
        "        kernel_size=kernel_size,\n",
        "        strides=strides,\n",
        "        padding=\"same\",\n",
        "        data_format=\"channels_last\",\n",
        "        activation=\"relu\",\n",
        "    )(x)\n",
        "    x = SpatialDropout3D(rate=dropout_rate)(x)\n",
        "    x = BatchNormalization()(x)\n",
        "\n",
        "    return x"
      ]
    },
    {
      "cell_type": "code",
      "execution_count": 25,
      "metadata": {
        "id": "ab7hG0wE3m06"
      },
      "outputs": [],
      "source": [
        "#@title 3.2 Create model (contd)\n",
        "\n",
        "inputs = Input(shape=[*input_shape, 1])\n",
        "\n",
        "x = conv_block(inputs, filters=2 ** 3, kernel_size=3, strides=1, dropout_rate=0.2)\n",
        "\n",
        "x = conv_block(x, filters=2 ** 3, kernel_size=3, strides=1, dropout_rate=0.2)\n",
        "x = conv_block(x, filters=2 ** 3, kernel_size=3, strides=2, dropout_rate=0.2)\n",
        "x = conv_block(x, filters=2 ** 3, kernel_size=3, strides=1, dropout_rate=0.2)\n",
        "\n",
        "x = conv_block(x, filters=2 ** 4, kernel_size=3, strides=2, dropout_rate=0.2)\n",
        "x = conv_block(x, filters=2 ** 4, kernel_size=3, strides=1, dropout_rate=0.2)\n",
        "\n",
        "x = conv_block(x, filters=2 ** 5, kernel_size=3, strides=2, dropout_rate=0.2)\n",
        "x = conv_block(x, filters=2 ** 5, kernel_size=3, strides=1, dropout_rate=0.2)\n",
        "\n",
        "x = conv_block(x, filters=2 ** 6, kernel_size=3, strides=2, dropout_rate=0.2)\n",
        "x = conv_block(x, filters=2 ** 6, kernel_size=3, strides=1, dropout_rate=0.2)\n",
        "\n",
        "x = conv_block(x, filters=2 ** 7, kernel_size=3, strides=2, dropout_rate=0.2)\n",
        "x = conv_block(x, filters=2 ** 7, kernel_size=3, strides=1, dropout_rate=0.2)\n",
        "\n",
        "x = Conv3D(\n",
        "    filters=n_classes,\n",
        "    kernel_size=1,\n",
        "    strides=1,\n",
        "    padding=\"same\",\n",
        "    data_format=\"channels_last\",\n",
        "    activation=None,\n",
        ")(x)\n",
        "x = SpatialDropout3D(rate=0.2)(x)\n",
        "x = GlobalAveragePooling3D()(x)\n",
        "x = Dense(n_classes, activation=\"softmax\")(x)\n",
        "\n",
        "model = Model(inputs, x)"
      ]
    },
    {
      "cell_type": "code",
      "execution_count": 26,
      "metadata": {
        "colab": {
          "base_uri": "https://localhost:8080/"
        },
        "id": "tT9yWMqs3wqL",
        "outputId": "974330db-620e-4159-c246-71df2f3cf7e3",
        "cellView": "form"
      },
      "outputs": [
        {
          "output_type": "stream",
          "name": "stdout",
          "text": [
            "Model: \"model_1\"\n",
            "_________________________________________________________________\n",
            " Layer (type)                Output Shape              Param #   \n",
            "=================================================================\n",
            " input_2 (InputLayer)        [(None, 91, 109, 91, 1)]  0         \n",
            "                                                                 \n",
            " conv3d_13 (Conv3D)          (None, 91, 109, 91, 8)    224       \n",
            "                                                                 \n",
            " spatial_dropout3d_13 (Spati  (None, 91, 109, 91, 8)   0         \n",
            " alDropout3D)                                                    \n",
            "                                                                 \n",
            " batch_normalization_12 (Bat  (None, 91, 109, 91, 8)   32        \n",
            " chNormalization)                                                \n",
            "                                                                 \n",
            " conv3d_14 (Conv3D)          (None, 91, 109, 91, 8)    1736      \n",
            "                                                                 \n",
            " spatial_dropout3d_14 (Spati  (None, 91, 109, 91, 8)   0         \n",
            " alDropout3D)                                                    \n",
            "                                                                 \n",
            " batch_normalization_13 (Bat  (None, 91, 109, 91, 8)   32        \n",
            " chNormalization)                                                \n",
            "                                                                 \n",
            " conv3d_15 (Conv3D)          (None, 46, 55, 46, 8)     1736      \n",
            "                                                                 \n",
            " spatial_dropout3d_15 (Spati  (None, 46, 55, 46, 8)    0         \n",
            " alDropout3D)                                                    \n",
            "                                                                 \n",
            " batch_normalization_14 (Bat  (None, 46, 55, 46, 8)    32        \n",
            " chNormalization)                                                \n",
            "                                                                 \n",
            " conv3d_16 (Conv3D)          (None, 46, 55, 46, 8)     1736      \n",
            "                                                                 \n",
            " spatial_dropout3d_16 (Spati  (None, 46, 55, 46, 8)    0         \n",
            " alDropout3D)                                                    \n",
            "                                                                 \n",
            " batch_normalization_15 (Bat  (None, 46, 55, 46, 8)    32        \n",
            " chNormalization)                                                \n",
            "                                                                 \n",
            " conv3d_17 (Conv3D)          (None, 23, 28, 23, 16)    3472      \n",
            "                                                                 \n",
            " spatial_dropout3d_17 (Spati  (None, 23, 28, 23, 16)   0         \n",
            " alDropout3D)                                                    \n",
            "                                                                 \n",
            " batch_normalization_16 (Bat  (None, 23, 28, 23, 16)   64        \n",
            " chNormalization)                                                \n",
            "                                                                 \n",
            " conv3d_18 (Conv3D)          (None, 23, 28, 23, 16)    6928      \n",
            "                                                                 \n",
            " spatial_dropout3d_18 (Spati  (None, 23, 28, 23, 16)   0         \n",
            " alDropout3D)                                                    \n",
            "                                                                 \n",
            " batch_normalization_17 (Bat  (None, 23, 28, 23, 16)   64        \n",
            " chNormalization)                                                \n",
            "                                                                 \n",
            " conv3d_19 (Conv3D)          (None, 12, 14, 12, 32)    13856     \n",
            "                                                                 \n",
            " spatial_dropout3d_19 (Spati  (None, 12, 14, 12, 32)   0         \n",
            " alDropout3D)                                                    \n",
            "                                                                 \n",
            " batch_normalization_18 (Bat  (None, 12, 14, 12, 32)   128       \n",
            " chNormalization)                                                \n",
            "                                                                 \n",
            " conv3d_20 (Conv3D)          (None, 12, 14, 12, 32)    27680     \n",
            "                                                                 \n",
            " spatial_dropout3d_20 (Spati  (None, 12, 14, 12, 32)   0         \n",
            " alDropout3D)                                                    \n",
            "                                                                 \n",
            " batch_normalization_19 (Bat  (None, 12, 14, 12, 32)   128       \n",
            " chNormalization)                                                \n",
            "                                                                 \n",
            " conv3d_21 (Conv3D)          (None, 6, 7, 6, 64)       55360     \n",
            "                                                                 \n",
            " spatial_dropout3d_21 (Spati  (None, 6, 7, 6, 64)      0         \n",
            " alDropout3D)                                                    \n",
            "                                                                 \n",
            " batch_normalization_20 (Bat  (None, 6, 7, 6, 64)      256       \n",
            " chNormalization)                                                \n",
            "                                                                 \n",
            " conv3d_22 (Conv3D)          (None, 6, 7, 6, 64)       110656    \n",
            "                                                                 \n",
            " spatial_dropout3d_22 (Spati  (None, 6, 7, 6, 64)      0         \n",
            " alDropout3D)                                                    \n",
            "                                                                 \n",
            " batch_normalization_21 (Bat  (None, 6, 7, 6, 64)      256       \n",
            " chNormalization)                                                \n",
            "                                                                 \n",
            " conv3d_23 (Conv3D)          (None, 3, 4, 3, 128)      221312    \n",
            "                                                                 \n",
            " spatial_dropout3d_23 (Spati  (None, 3, 4, 3, 128)     0         \n",
            " alDropout3D)                                                    \n",
            "                                                                 \n",
            " batch_normalization_22 (Bat  (None, 3, 4, 3, 128)     512       \n",
            " chNormalization)                                                \n",
            "                                                                 \n",
            " conv3d_24 (Conv3D)          (None, 3, 4, 3, 128)      442496    \n",
            "                                                                 \n",
            " spatial_dropout3d_24 (Spati  (None, 3, 4, 3, 128)     0         \n",
            " alDropout3D)                                                    \n",
            "                                                                 \n",
            " batch_normalization_23 (Bat  (None, 3, 4, 3, 128)     512       \n",
            " chNormalization)                                                \n",
            "                                                                 \n",
            " conv3d_25 (Conv3D)          (None, 3, 4, 3, 4)        516       \n",
            "                                                                 \n",
            " spatial_dropout3d_25 (Spati  (None, 3, 4, 3, 4)       0         \n",
            " alDropout3D)                                                    \n",
            "                                                                 \n",
            " global_average_pooling3d_1   (None, 4)                0         \n",
            " (GlobalAveragePooling3D)                                        \n",
            "                                                                 \n",
            " dense_1 (Dense)             (None, 4)                 20        \n",
            "                                                                 \n",
            "=================================================================\n",
            "Total params: 889,776\n",
            "Trainable params: 888,752\n",
            "Non-trainable params: 1,024\n",
            "_________________________________________________________________\n"
          ]
        }
      ],
      "source": [
        "#@title 3.2 Create model (contd)\n",
        "\n",
        "model.summary()"
      ]
    },
    {
      "cell_type": "code",
      "execution_count": 27,
      "metadata": {
        "id": "Q5xtoCzk8gZE",
        "cellView": "form"
      },
      "outputs": [],
      "source": [
        "#@title 3.3 Load pretrained model\n",
        "\n",
        "pretrained_model = tf.keras.models.load_model(\n",
        "    \"/content/drive/MyDrive/MAID/CV/data/model-3D_DeepLight_desc-pretrained_model.hdf5\"\n",
        ")"
      ]
    },
    {
      "cell_type": "code",
      "execution_count": 28,
      "metadata": {
        "colab": {
          "base_uri": "https://localhost:8080/"
        },
        "id": "2GXpfWsa9t3U",
        "outputId": "3792aa45-601f-4286-fa09-99af287282f2",
        "cellView": "form"
      },
      "outputs": [
        {
          "output_type": "stream",
          "name": "stdout",
          "text": [
            "Model: \"sequential\"\n",
            "_________________________________________________________________\n",
            " Layer (type)                Output Shape              Param #   \n",
            "=================================================================\n",
            " conv3d (Conv3D)             (None, 91, 109, 91, 8)    224       \n",
            "                                                                 \n",
            " spatial_dropout3d (SpatialD  (None, 91, 109, 91, 8)   0         \n",
            " ropout3D)                                                       \n",
            "                                                                 \n",
            " batch_normalization (BatchN  (None, 91, 109, 91, 8)   32        \n",
            " ormalization)                                                   \n",
            "                                                                 \n",
            " conv3d_1 (Conv3D)           (None, 91, 109, 91, 8)    1736      \n",
            "                                                                 \n",
            " spatial_dropout3d_1 (Spatia  (None, 91, 109, 91, 8)   0         \n",
            " lDropout3D)                                                     \n",
            "                                                                 \n",
            " batch_normalization_1 (Batc  (None, 91, 109, 91, 8)   32        \n",
            " hNormalization)                                                 \n",
            "                                                                 \n",
            " conv3d_2 (Conv3D)           (None, 46, 55, 46, 8)     1736      \n",
            "                                                                 \n",
            " spatial_dropout3d_2 (Spatia  (None, 46, 55, 46, 8)    0         \n",
            " lDropout3D)                                                     \n",
            "                                                                 \n",
            " batch_normalization_2 (Batc  (None, 46, 55, 46, 8)    32        \n",
            " hNormalization)                                                 \n",
            "                                                                 \n",
            " conv3d_3 (Conv3D)           (None, 46, 55, 46, 8)     1736      \n",
            "                                                                 \n",
            " spatial_dropout3d_3 (Spatia  (None, 46, 55, 46, 8)    0         \n",
            " lDropout3D)                                                     \n",
            "                                                                 \n",
            " batch_normalization_3 (Batc  (None, 46, 55, 46, 8)    32        \n",
            " hNormalization)                                                 \n",
            "                                                                 \n",
            " conv3d_4 (Conv3D)           (None, 23, 28, 23, 16)    3472      \n",
            "                                                                 \n",
            " spatial_dropout3d_4 (Spatia  (None, 23, 28, 23, 16)   0         \n",
            " lDropout3D)                                                     \n",
            "                                                                 \n",
            " batch_normalization_4 (Batc  (None, 23, 28, 23, 16)   64        \n",
            " hNormalization)                                                 \n",
            "                                                                 \n",
            " conv3d_5 (Conv3D)           (None, 23, 28, 23, 16)    6928      \n",
            "                                                                 \n",
            " spatial_dropout3d_5 (Spatia  (None, 23, 28, 23, 16)   0         \n",
            " lDropout3D)                                                     \n",
            "                                                                 \n",
            " batch_normalization_5 (Batc  (None, 23, 28, 23, 16)   64        \n",
            " hNormalization)                                                 \n",
            "                                                                 \n",
            " conv3d_6 (Conv3D)           (None, 12, 14, 12, 32)    13856     \n",
            "                                                                 \n",
            " spatial_dropout3d_6 (Spatia  (None, 12, 14, 12, 32)   0         \n",
            " lDropout3D)                                                     \n",
            "                                                                 \n",
            " batch_normalization_6 (Batc  (None, 12, 14, 12, 32)   128       \n",
            " hNormalization)                                                 \n",
            "                                                                 \n",
            " conv3d_7 (Conv3D)           (None, 12, 14, 12, 32)    27680     \n",
            "                                                                 \n",
            " spatial_dropout3d_7 (Spatia  (None, 12, 14, 12, 32)   0         \n",
            " lDropout3D)                                                     \n",
            "                                                                 \n",
            " batch_normalization_7 (Batc  (None, 12, 14, 12, 32)   128       \n",
            " hNormalization)                                                 \n",
            "                                                                 \n",
            " conv3d_8 (Conv3D)           (None, 6, 7, 6, 64)       55360     \n",
            "                                                                 \n",
            " spatial_dropout3d_8 (Spatia  (None, 6, 7, 6, 64)      0         \n",
            " lDropout3D)                                                     \n",
            "                                                                 \n",
            " batch_normalization_8 (Batc  (None, 6, 7, 6, 64)      256       \n",
            " hNormalization)                                                 \n",
            "                                                                 \n",
            " conv3d_9 (Conv3D)           (None, 6, 7, 6, 64)       110656    \n",
            "                                                                 \n",
            " spatial_dropout3d_9 (Spatia  (None, 6, 7, 6, 64)      0         \n",
            " lDropout3D)                                                     \n",
            "                                                                 \n",
            " batch_normalization_9 (Batc  (None, 6, 7, 6, 64)      256       \n",
            " hNormalization)                                                 \n",
            "                                                                 \n",
            " conv3d_10 (Conv3D)          (None, 3, 4, 3, 128)      221312    \n",
            "                                                                 \n",
            " spatial_dropout3d_10 (Spati  (None, 3, 4, 3, 128)     0         \n",
            " alDropout3D)                                                    \n",
            "                                                                 \n",
            " batch_normalization_10 (Bat  (None, 3, 4, 3, 128)     512       \n",
            " chNormalization)                                                \n",
            "                                                                 \n",
            " conv3d_11 (Conv3D)          (None, 3, 4, 3, 128)      442496    \n",
            "                                                                 \n",
            " spatial_dropout3d_11 (Spati  (None, 3, 4, 3, 128)     0         \n",
            " alDropout3D)                                                    \n",
            "                                                                 \n",
            " batch_normalization_11 (Bat  (None, 3, 4, 3, 128)     512       \n",
            " chNormalization)                                                \n",
            "                                                                 \n",
            " conv3d_12 (Conv3D)          (None, 3, 4, 3, 16)       2064      \n",
            "                                                                 \n",
            " activation (Activation)     (None, 3, 4, 3, 16)       0         \n",
            "                                                                 \n",
            " spatial_dropout3d_12 (Spati  (None, 3, 4, 3, 16)      0         \n",
            " alDropout3D)                                                    \n",
            "                                                                 \n",
            " global_average_pooling3d (G  (None, 16)               0         \n",
            " lobalAveragePooling3D)                                          \n",
            "                                                                 \n",
            " activation_1 (Activation)   (None, 16)                0         \n",
            "                                                                 \n",
            "=================================================================\n",
            "Total params: 891,304\n",
            "Trainable params: 890,280\n",
            "Non-trainable params: 1,024\n",
            "_________________________________________________________________\n"
          ]
        }
      ],
      "source": [
        "#@title 3.3 Load pretrained model (contd)\n",
        "\n",
        "pretrained_model.summary()"
      ]
    },
    {
      "cell_type": "code",
      "execution_count": 29,
      "metadata": {
        "colab": {
          "base_uri": "https://localhost:8080/"
        },
        "id": "Qptc_u_I9CQq",
        "outputId": "232bee18-0adf-4065-b5bc-b576367aaec1",
        "cellView": "form"
      },
      "outputs": [
        {
          "output_type": "stream",
          "name": "stdout",
          "text": [
            "shapes dont match for conv3d_25\n",
            "shapes dont match for dense_1\n"
          ]
        }
      ],
      "source": [
        "#@title 3.4 Transfer weights from pretrained\n",
        "\n",
        "for model_layer, pretrained_model_layer in zip(model.layers[1:], pretrained_model.layers):\n",
        "    try:\n",
        "        model_layer.set_weights(pretrained_model_layer.get_weights())\n",
        "    except:\n",
        "        print(\"shapes dont match for\", model_layer.name)"
      ]
    },
    {
      "cell_type": "code",
      "execution_count": 30,
      "metadata": {
        "id": "BgZtRSBQ3yZK"
      },
      "outputs": [],
      "source": [
        "#@title 3.4 Train model\n",
        "\n",
        "model.compile(\n",
        "    optimizer=Adam(learning_rate), loss=\"categorical_crossentropy\", metrics=[\"accuracy\"]\n",
        ")"
      ]
    },
    {
      "cell_type": "code",
      "source": [
        "#@title 3.4 Train model (contd)\n",
        "\n",
        "estop = EarlyStopping(\"val_loss\", patience=10, restore_best_weights=True, verbose=0)\n",
        "wb = wandb.keras.WandbCallback(monitor=\"val_loss\")"
      ],
      "metadata": {
        "id": "PKQhKVkYuuCl"
      },
      "execution_count": 31,
      "outputs": []
    },
    {
      "cell_type": "code",
      "execution_count": 32,
      "metadata": {
        "colab": {
          "base_uri": "https://localhost:8080/"
        },
        "id": "nemyEJSO3zcy",
        "outputId": "39dbefb3-eb8b-4a47-e083-ff9abc7df8ce",
        "cellView": "form"
      },
      "outputs": [
        {
          "output_type": "stream",
          "name": "stdout",
          "text": [
            "Epoch 1/50\n",
            "  6/100 [>.............................] - ETA: 1:07 - loss: 2.4675 - accuracy: 0.2500WARNING:tensorflow:Callback method `on_train_batch_end` is slow compared to the batch time (batch time: 0.2797s vs `on_train_batch_end` time: 0.4421s). Check your callbacks.\n",
            "100/100 [==============================] - 107s 1s/step - loss: 1.5316 - accuracy: 0.3169 - val_loss: 1.1796 - val_accuracy: 0.5697 - _timestamp: 1656249486.0000 - _runtime: 220.0000\n",
            "Epoch 2/50\n",
            "100/100 [==============================] - 99s 991ms/step - loss: 1.2517 - accuracy: 0.4394 - val_loss: 1.0391 - val_accuracy: 0.6175 - _timestamp: 1656249585.0000 - _runtime: 319.0000\n",
            "Epoch 3/50\n",
            "100/100 [==============================] - 102s 1s/step - loss: 1.1675 - accuracy: 0.4693 - val_loss: 0.9367 - val_accuracy: 0.6426 - _timestamp: 1656249686.0000 - _runtime: 420.0000\n",
            "Epoch 4/50\n",
            "100/100 [==============================] - 98s 983ms/step - loss: 1.0658 - accuracy: 0.5275 - val_loss: 0.8720 - val_accuracy: 0.6734 - _timestamp: 1656249784.0000 - _runtime: 518.0000\n",
            "Epoch 5/50\n",
            "100/100 [==============================] - 98s 987ms/step - loss: 0.9775 - accuracy: 0.5875 - val_loss: 0.8139 - val_accuracy: 0.6859 - _timestamp: 1656249883.0000 - _runtime: 617.0000\n",
            "Epoch 6/50\n",
            "100/100 [==============================] - 100s 1s/step - loss: 0.9576 - accuracy: 0.5914 - val_loss: 0.7795 - val_accuracy: 0.6897 - _timestamp: 1656249983.0000 - _runtime: 717.0000\n",
            "Epoch 7/50\n",
            "100/100 [==============================] - 98s 984ms/step - loss: 0.8870 - accuracy: 0.6194 - val_loss: 0.7514 - val_accuracy: 0.6972 - _timestamp: 1656250081.0000 - _runtime: 815.0000\n",
            "Epoch 8/50\n",
            "100/100 [==============================] - 99s 989ms/step - loss: 0.8458 - accuracy: 0.6438 - val_loss: 0.7471 - val_accuracy: 0.7079 - _timestamp: 1656250179.0000 - _runtime: 913.0000\n",
            "Epoch 9/50\n",
            "100/100 [==============================] - 100s 1s/step - loss: 0.8089 - accuracy: 0.6715 - val_loss: 0.7259 - val_accuracy: 0.7079 - _timestamp: 1656250279.0000 - _runtime: 1013.0000\n",
            "Epoch 10/50\n",
            "100/100 [==============================] - 98s 988ms/step - loss: 0.8189 - accuracy: 0.6725 - val_loss: 0.7131 - val_accuracy: 0.7173 - _timestamp: 1656250378.0000 - _runtime: 1112.0000\n",
            "Epoch 11/50\n",
            "100/100 [==============================] - 98s 985ms/step - loss: 0.8075 - accuracy: 0.6544 - val_loss: 0.6969 - val_accuracy: 0.7224 - _timestamp: 1656250476.0000 - _runtime: 1210.0000\n",
            "Epoch 12/50\n",
            "100/100 [==============================] - 100s 1s/step - loss: 0.7468 - accuracy: 0.6915 - val_loss: 0.7051 - val_accuracy: 0.7041 - _timestamp: 1656250576.0000 - _runtime: 1310.0000\n",
            "Epoch 13/50\n",
            "100/100 [==============================] - 98s 987ms/step - loss: 0.7507 - accuracy: 0.6862 - val_loss: 0.6868 - val_accuracy: 0.7249 - _timestamp: 1656250674.0000 - _runtime: 1408.0000\n",
            "Epoch 14/50\n",
            "100/100 [==============================] - 100s 1s/step - loss: 0.7912 - accuracy: 0.6931 - val_loss: 0.6748 - val_accuracy: 0.7249 - _timestamp: 1656250775.0000 - _runtime: 1509.0000\n",
            "Epoch 15/50\n",
            "100/100 [==============================] - 99s 998ms/step - loss: 0.6816 - accuracy: 0.7184 - val_loss: 0.6849 - val_accuracy: 0.7123 - _timestamp: 1656250875.0000 - _runtime: 1609.0000\n",
            "Epoch 16/50\n",
            "100/100 [==============================] - 99s 989ms/step - loss: 0.7074 - accuracy: 0.7075 - val_loss: 0.6618 - val_accuracy: 0.7274 - _timestamp: 1656250973.0000 - _runtime: 1707.0000\n",
            "Epoch 17/50\n",
            "100/100 [==============================] - 98s 986ms/step - loss: 0.6941 - accuracy: 0.7306 - val_loss: 0.6594 - val_accuracy: 0.7230 - _timestamp: 1656251071.0000 - _runtime: 1805.0000\n",
            "Epoch 18/50\n",
            "100/100 [==============================] - 99s 995ms/step - loss: 0.6793 - accuracy: 0.7234 - val_loss: 0.6657 - val_accuracy: 0.7261 - _timestamp: 1656251171.0000 - _runtime: 1905.0000\n",
            "Epoch 19/50\n",
            "100/100 [==============================] - 98s 984ms/step - loss: 0.6765 - accuracy: 0.7287 - val_loss: 0.6503 - val_accuracy: 0.7255 - _timestamp: 1656251269.0000 - _runtime: 2003.0000\n",
            "Epoch 20/50\n",
            "100/100 [==============================] - 98s 982ms/step - loss: 0.6246 - accuracy: 0.7575 - val_loss: 0.6620 - val_accuracy: 0.7249 - _timestamp: 1656251367.0000 - _runtime: 2101.0000\n",
            "Epoch 21/50\n",
            "100/100 [==============================] - 100s 999ms/step - loss: 0.6254 - accuracy: 0.7591 - val_loss: 0.6510 - val_accuracy: 0.7268 - _timestamp: 1656251466.0000 - _runtime: 2200.0000\n",
            "Epoch 22/50\n",
            "100/100 [==============================] - 98s 982ms/step - loss: 0.6645 - accuracy: 0.7350 - val_loss: 0.6443 - val_accuracy: 0.7286 - _timestamp: 1656251564.0000 - _runtime: 2298.0000\n",
            "Epoch 23/50\n",
            "100/100 [==============================] - 98s 987ms/step - loss: 0.5881 - accuracy: 0.7681 - val_loss: 0.6547 - val_accuracy: 0.7286 - _timestamp: 1656251662.0000 - _runtime: 2396.0000\n",
            "Epoch 24/50\n",
            "100/100 [==============================] - 100s 999ms/step - loss: 0.6256 - accuracy: 0.7603 - val_loss: 0.6391 - val_accuracy: 0.7406 - _timestamp: 1656251762.0000 - _runtime: 2496.0000\n",
            "Epoch 25/50\n",
            "100/100 [==============================] - 98s 980ms/step - loss: 0.6362 - accuracy: 0.7481 - val_loss: 0.6394 - val_accuracy: 0.7255 - _timestamp: 1656251860.0000 - _runtime: 2594.0000\n",
            "Epoch 26/50\n",
            "100/100 [==============================] - 98s 984ms/step - loss: 0.5855 - accuracy: 0.7588 - val_loss: 0.6576 - val_accuracy: 0.7255 - _timestamp: 1656251958.0000 - _runtime: 2692.0000\n",
            "Epoch 27/50\n",
            "100/100 [==============================] - 99s 994ms/step - loss: 0.5966 - accuracy: 0.7716 - val_loss: 0.6353 - val_accuracy: 0.7362 - _timestamp: 1656252057.0000 - _runtime: 2791.0000\n",
            "Epoch 28/50\n",
            "100/100 [==============================] - 99s 997ms/step - loss: 0.6028 - accuracy: 0.7700 - val_loss: 0.6330 - val_accuracy: 0.7406 - _timestamp: 1656252156.0000 - _runtime: 2890.0000\n",
            "Epoch 29/50\n",
            "100/100 [==============================] - 98s 980ms/step - loss: 0.5478 - accuracy: 0.7875 - val_loss: 0.6909 - val_accuracy: 0.7123 - _timestamp: 1656252254.0000 - _runtime: 2988.0000\n",
            "Epoch 30/50\n",
            "100/100 [==============================] - 100s 1s/step - loss: 0.5810 - accuracy: 0.7747 - val_loss: 0.6310 - val_accuracy: 0.7418 - _timestamp: 1656252354.0000 - _runtime: 3088.0000\n",
            "Epoch 31/50\n",
            "100/100 [==============================] - 98s 986ms/step - loss: 0.5751 - accuracy: 0.7594 - val_loss: 0.6358 - val_accuracy: 0.7437 - _timestamp: 1656252452.0000 - _runtime: 3186.0000\n",
            "Epoch 32/50\n",
            "100/100 [==============================] - 98s 982ms/step - loss: 0.5092 - accuracy: 0.8006 - val_loss: 0.6474 - val_accuracy: 0.7431 - _timestamp: 1656252550.0000 - _runtime: 3284.0000\n",
            "Epoch 33/50\n",
            "100/100 [==============================] - 99s 996ms/step - loss: 0.5644 - accuracy: 0.7847 - val_loss: 0.6360 - val_accuracy: 0.7399 - _timestamp: 1656252649.0000 - _runtime: 3383.0000\n",
            "Epoch 34/50\n",
            "100/100 [==============================] - 98s 986ms/step - loss: 0.5578 - accuracy: 0.7756 - val_loss: 0.6382 - val_accuracy: 0.7469 - _timestamp: 1656252748.0000 - _runtime: 3482.0000\n",
            "Epoch 35/50\n",
            "100/100 [==============================] - 100s 999ms/step - loss: 0.4915 - accuracy: 0.8125 - val_loss: 0.6692 - val_accuracy: 0.7412 - _timestamp: 1656252847.0000 - _runtime: 3581.0000\n",
            "Epoch 36/50\n",
            "100/100 [==============================] - 99s 997ms/step - loss: 0.5231 - accuracy: 0.8023 - val_loss: 0.6475 - val_accuracy: 0.7349 - _timestamp: 1656252947.0000 - _runtime: 3681.0000\n",
            "Epoch 37/50\n",
            "100/100 [==============================] - 99s 989ms/step - loss: 0.5169 - accuracy: 0.7956 - val_loss: 0.6603 - val_accuracy: 0.7431 - _timestamp: 1656253045.0000 - _runtime: 3779.0000\n",
            "Epoch 38/50\n",
            "100/100 [==============================] - 98s 984ms/step - loss: 0.4596 - accuracy: 0.8112 - val_loss: 0.6831 - val_accuracy: 0.7412 - _timestamp: 1656253143.0000 - _runtime: 3877.0000\n",
            "Epoch 39/50\n",
            "100/100 [==============================] - 100s 998ms/step - loss: 0.5561 - accuracy: 0.7653 - val_loss: 0.6252 - val_accuracy: 0.7406 - _timestamp: 1656253243.0000 - _runtime: 3977.0000\n",
            "Epoch 40/50\n",
            "100/100 [==============================] - 99s 988ms/step - loss: 0.4894 - accuracy: 0.8006 - val_loss: 0.6460 - val_accuracy: 0.7362 - _timestamp: 1656253341.0000 - _runtime: 4075.0000\n",
            "Epoch 41/50\n",
            "100/100 [==============================] - 98s 984ms/step - loss: 0.4402 - accuracy: 0.8225 - val_loss: 0.6613 - val_accuracy: 0.7462 - _timestamp: 1656253439.0000 - _runtime: 4173.0000\n",
            "Epoch 42/50\n",
            "100/100 [==============================] - 100s 1s/step - loss: 0.5091 - accuracy: 0.7997 - val_loss: 0.6536 - val_accuracy: 0.7387 - _timestamp: 1656253540.0000 - _runtime: 4274.0000\n",
            "Epoch 43/50\n",
            "100/100 [==============================] - 98s 983ms/step - loss: 0.4886 - accuracy: 0.8131 - val_loss: 0.6474 - val_accuracy: 0.7475 - _timestamp: 1656253638.0000 - _runtime: 4372.0000\n",
            "Epoch 44/50\n",
            "100/100 [==============================] - 101s 1s/step - loss: 0.4360 - accuracy: 0.8335 - val_loss: 0.6516 - val_accuracy: 0.7519 - _timestamp: 1656253739.0000 - _runtime: 4473.0000\n",
            "Epoch 45/50\n",
            "100/100 [==============================] - 98s 984ms/step - loss: 0.5309 - accuracy: 0.7906 - val_loss: 0.6225 - val_accuracy: 0.7513 - _timestamp: 1656253837.0000 - _runtime: 4571.0000\n",
            "Epoch 46/50\n",
            "100/100 [==============================] - 98s 985ms/step - loss: 0.4536 - accuracy: 0.8250 - val_loss: 0.6495 - val_accuracy: 0.7481 - _timestamp: 1656253935.0000 - _runtime: 4669.0000\n",
            "Epoch 47/50\n",
            "100/100 [==============================] - 100s 999ms/step - loss: 0.4267 - accuracy: 0.8298 - val_loss: 0.6872 - val_accuracy: 0.7443 - _timestamp: 1656254035.0000 - _runtime: 4769.0000\n",
            "Epoch 48/50\n",
            "100/100 [==============================] - 107s 1s/step - loss: 0.4652 - accuracy: 0.8206 - val_loss: 0.6363 - val_accuracy: 0.7531 - _timestamp: 1656254142.0000 - _runtime: 4876.0000\n",
            "Epoch 49/50\n",
            "100/100 [==============================] - 104s 1s/step - loss: 0.4736 - accuracy: 0.8138 - val_loss: 0.6576 - val_accuracy: 0.7500 - _timestamp: 1656254246.0000 - _runtime: 4980.0000\n",
            "Epoch 50/50\n",
            "100/100 [==============================] - 103s 1s/step - loss: 0.4048 - accuracy: 0.8360 - val_loss: 0.6706 - val_accuracy: 0.7456 - _timestamp: 1656254348.0000 - _runtime: 5082.0000\n"
          ]
        }
      ],
      "source": [
        "#@title 3.4 Train model (contd)\n",
        "\n",
        "history = model.fit(\n",
        "    train_dataset,\n",
        "    epochs=epochs,\n",
        "    steps_per_epoch=training_steps,\n",
        "    validation_data=validation_dataset,\n",
        "    validation_steps=validation_steps,\n",
        "    verbose=True,\n",
        "    use_multiprocessing=True,\n",
        "    workers=n_workers,\n",
        "    callbacks=[estop, wb]\n",
        ")"
      ]
    },
    {
      "cell_type": "code",
      "source": [
        ""
      ],
      "metadata": {
        "id": "kGr48rez8112"
      },
      "execution_count": null,
      "outputs": []
    }
  ],
  "metadata": {
    "accelerator": "GPU",
    "colab": {
      "collapsed_sections": [],
      "name": "train_deeplight3D_TF2.ipynb",
      "provenance": [],
      "include_colab_link": true
    },
    "kernelspec": {
      "display_name": "Python 3",
      "language": "python",
      "name": "python3"
    },
    "language_info": {
      "codemirror_mode": {
        "name": "ipython",
        "version": 3
      },
      "file_extension": ".py",
      "mimetype": "text/x-python",
      "name": "python",
      "nbconvert_exporter": "python",
      "pygments_lexer": "ipython3",
      "version": "3.8.8"
    },
    "widgets": {
      "application/vnd.jupyter.widget-state+json": {
        "08c0832bd62b4792aaaa3a98891f8fc0": {
          "model_module": "@jupyter-widgets/controls",
          "model_name": "VBoxModel",
          "model_module_version": "1.5.0",
          "state": {
            "_dom_classes": [],
            "_model_module": "@jupyter-widgets/controls",
            "_model_module_version": "1.5.0",
            "_model_name": "VBoxModel",
            "_view_count": null,
            "_view_module": "@jupyter-widgets/controls",
            "_view_module_version": "1.5.0",
            "_view_name": "VBoxView",
            "box_style": "",
            "children": [
              "IPY_MODEL_10b548b809a14929bd80eb24819f875a",
              "IPY_MODEL_73bd33373b8f49ef97c9143c09421525"
            ],
            "layout": "IPY_MODEL_e993ef3651814c1fad1fc171f1fec649"
          }
        },
        "10b548b809a14929bd80eb24819f875a": {
          "model_module": "@jupyter-widgets/controls",
          "model_name": "LabelModel",
          "model_module_version": "1.5.0",
          "state": {
            "_dom_classes": [],
            "_model_module": "@jupyter-widgets/controls",
            "_model_module_version": "1.5.0",
            "_model_name": "LabelModel",
            "_view_count": null,
            "_view_module": "@jupyter-widgets/controls",
            "_view_module_version": "1.5.0",
            "_view_name": "LabelView",
            "description": "",
            "description_tooltip": null,
            "layout": "IPY_MODEL_1b34c5a510e0417ba3c2db141f29c0a5",
            "placeholder": "​",
            "style": "IPY_MODEL_02a41c1863124f189e99291e664dbcd4",
            "value": "10.456 MB of 10.456 MB uploaded (0.000 MB deduped)\r"
          }
        },
        "73bd33373b8f49ef97c9143c09421525": {
          "model_module": "@jupyter-widgets/controls",
          "model_name": "FloatProgressModel",
          "model_module_version": "1.5.0",
          "state": {
            "_dom_classes": [],
            "_model_module": "@jupyter-widgets/controls",
            "_model_module_version": "1.5.0",
            "_model_name": "FloatProgressModel",
            "_view_count": null,
            "_view_module": "@jupyter-widgets/controls",
            "_view_module_version": "1.5.0",
            "_view_name": "ProgressView",
            "bar_style": "",
            "description": "",
            "description_tooltip": null,
            "layout": "IPY_MODEL_9ec52b6543cc4912aad10950d7bf6dda",
            "max": 1,
            "min": 0,
            "orientation": "horizontal",
            "style": "IPY_MODEL_75f66579d14b4e95b317f802d1f7b651",
            "value": 1
          }
        },
        "e993ef3651814c1fad1fc171f1fec649": {
          "model_module": "@jupyter-widgets/base",
          "model_name": "LayoutModel",
          "model_module_version": "1.2.0",
          "state": {
            "_model_module": "@jupyter-widgets/base",
            "_model_module_version": "1.2.0",
            "_model_name": "LayoutModel",
            "_view_count": null,
            "_view_module": "@jupyter-widgets/base",
            "_view_module_version": "1.2.0",
            "_view_name": "LayoutView",
            "align_content": null,
            "align_items": null,
            "align_self": null,
            "border": null,
            "bottom": null,
            "display": null,
            "flex": null,
            "flex_flow": null,
            "grid_area": null,
            "grid_auto_columns": null,
            "grid_auto_flow": null,
            "grid_auto_rows": null,
            "grid_column": null,
            "grid_gap": null,
            "grid_row": null,
            "grid_template_areas": null,
            "grid_template_columns": null,
            "grid_template_rows": null,
            "height": null,
            "justify_content": null,
            "justify_items": null,
            "left": null,
            "margin": null,
            "max_height": null,
            "max_width": null,
            "min_height": null,
            "min_width": null,
            "object_fit": null,
            "object_position": null,
            "order": null,
            "overflow": null,
            "overflow_x": null,
            "overflow_y": null,
            "padding": null,
            "right": null,
            "top": null,
            "visibility": null,
            "width": null
          }
        },
        "1b34c5a510e0417ba3c2db141f29c0a5": {
          "model_module": "@jupyter-widgets/base",
          "model_name": "LayoutModel",
          "model_module_version": "1.2.0",
          "state": {
            "_model_module": "@jupyter-widgets/base",
            "_model_module_version": "1.2.0",
            "_model_name": "LayoutModel",
            "_view_count": null,
            "_view_module": "@jupyter-widgets/base",
            "_view_module_version": "1.2.0",
            "_view_name": "LayoutView",
            "align_content": null,
            "align_items": null,
            "align_self": null,
            "border": null,
            "bottom": null,
            "display": null,
            "flex": null,
            "flex_flow": null,
            "grid_area": null,
            "grid_auto_columns": null,
            "grid_auto_flow": null,
            "grid_auto_rows": null,
            "grid_column": null,
            "grid_gap": null,
            "grid_row": null,
            "grid_template_areas": null,
            "grid_template_columns": null,
            "grid_template_rows": null,
            "height": null,
            "justify_content": null,
            "justify_items": null,
            "left": null,
            "margin": null,
            "max_height": null,
            "max_width": null,
            "min_height": null,
            "min_width": null,
            "object_fit": null,
            "object_position": null,
            "order": null,
            "overflow": null,
            "overflow_x": null,
            "overflow_y": null,
            "padding": null,
            "right": null,
            "top": null,
            "visibility": null,
            "width": null
          }
        },
        "02a41c1863124f189e99291e664dbcd4": {
          "model_module": "@jupyter-widgets/controls",
          "model_name": "DescriptionStyleModel",
          "model_module_version": "1.5.0",
          "state": {
            "_model_module": "@jupyter-widgets/controls",
            "_model_module_version": "1.5.0",
            "_model_name": "DescriptionStyleModel",
            "_view_count": null,
            "_view_module": "@jupyter-widgets/base",
            "_view_module_version": "1.2.0",
            "_view_name": "StyleView",
            "description_width": ""
          }
        },
        "9ec52b6543cc4912aad10950d7bf6dda": {
          "model_module": "@jupyter-widgets/base",
          "model_name": "LayoutModel",
          "model_module_version": "1.2.0",
          "state": {
            "_model_module": "@jupyter-widgets/base",
            "_model_module_version": "1.2.0",
            "_model_name": "LayoutModel",
            "_view_count": null,
            "_view_module": "@jupyter-widgets/base",
            "_view_module_version": "1.2.0",
            "_view_name": "LayoutView",
            "align_content": null,
            "align_items": null,
            "align_self": null,
            "border": null,
            "bottom": null,
            "display": null,
            "flex": null,
            "flex_flow": null,
            "grid_area": null,
            "grid_auto_columns": null,
            "grid_auto_flow": null,
            "grid_auto_rows": null,
            "grid_column": null,
            "grid_gap": null,
            "grid_row": null,
            "grid_template_areas": null,
            "grid_template_columns": null,
            "grid_template_rows": null,
            "height": null,
            "justify_content": null,
            "justify_items": null,
            "left": null,
            "margin": null,
            "max_height": null,
            "max_width": null,
            "min_height": null,
            "min_width": null,
            "object_fit": null,
            "object_position": null,
            "order": null,
            "overflow": null,
            "overflow_x": null,
            "overflow_y": null,
            "padding": null,
            "right": null,
            "top": null,
            "visibility": null,
            "width": null
          }
        },
        "75f66579d14b4e95b317f802d1f7b651": {
          "model_module": "@jupyter-widgets/controls",
          "model_name": "ProgressStyleModel",
          "model_module_version": "1.5.0",
          "state": {
            "_model_module": "@jupyter-widgets/controls",
            "_model_module_version": "1.5.0",
            "_model_name": "ProgressStyleModel",
            "_view_count": null,
            "_view_module": "@jupyter-widgets/base",
            "_view_module_version": "1.2.0",
            "_view_name": "StyleView",
            "bar_color": null,
            "description_width": ""
          }
        }
      }
    }
  },
  "nbformat": 4,
  "nbformat_minor": 0
}