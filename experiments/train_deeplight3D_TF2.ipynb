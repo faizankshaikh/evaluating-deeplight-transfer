{
 "cells": [
  {
   "cell_type": "code",
   "execution_count": null,
   "metadata": {
    "id": "xMJbCIdY1Lc6"
   },
   "outputs": [],
   "source": [
    "import os\n",
    "from glob import glob\n",
    "\n",
    "import numpy as np\n",
    "import tensorflow as tf\n",
    "from tensorflow.keras import Model\n",
    "from tensorflow.keras.layers import (\n",
    "    BatchNormalization,\n",
    "    Conv3D,\n",
    "    Dense,\n",
    "    GlobalAveragePooling3D,\n",
    "    Input,\n",
    "    SpatialDropout3D,\n",
    ")\n",
    "from tensorflow.keras.optimizers import Adam"
   ]
  },
  {
   "cell_type": "code",
   "execution_count": null,
   "metadata": {
    "colab": {
     "base_uri": "https://localhost:8080/"
    },
    "executionInfo": {
     "elapsed": 14114,
     "status": "ok",
     "timestamp": 1653426127490,
     "user": {
      "displayName": "faizan shaikh",
      "userId": "07685339115898994855"
     },
     "user_tz": -120
    },
    "id": "AZBBVMFx192r",
    "outputId": "1336654c-93bf-4a72-acbb-ee8ea173f835"
   },
   "outputs": [
    {
     "name": "stdout",
     "output_type": "stream",
     "text": [
      "Mounted at /content/drive\n"
     ]
    }
   ],
   "source": [
    "from google.colab import drive\n",
    "\n",
    "drive.mount(\"/content/drive\")"
   ]
  },
  {
   "cell_type": "code",
   "execution_count": null,
   "metadata": {
    "colab": {
     "base_uri": "https://localhost:8080/"
    },
    "executionInfo": {
     "elapsed": 173904,
     "status": "ok",
     "timestamp": 1653426301384,
     "user": {
      "displayName": "faizan shaikh",
      "userId": "07685339115898994855"
     },
     "user_tz": -120
    },
    "id": "7UwDyL-82NfC",
    "outputId": "f85b6323-8bd4-4e7f-d91b-7235fae4e5a4"
   },
   "outputs": [
    {
     "name": "stdout",
     "output_type": "stream",
     "text": [
      "Archive:  /content/drive/MyDrive/MAID/CV/data/data.zip\n",
      "warning:  skipped \"../\" path component(s) in ../data/sub-100307/func/sub-100307_task-WM_run-LR_space-MNI152NLin6Asym_res-2_desc-tfr.tfrecords\n",
      "  inflating: data/sub-100307/func/sub-100307_task-WM_run-LR_space-MNI152NLin6Asym_res-2_desc-tfr.tfrecords  \n",
      "warning:  skipped \"../\" path component(s) in ../data/sub-100408/func/sub-100408_task-WM_run-LR_space-MNI152NLin6Asym_res-2_desc-tfr.tfrecords\n",
      "  inflating: data/sub-100408/func/sub-100408_task-WM_run-LR_space-MNI152NLin6Asym_res-2_desc-tfr.tfrecords  \n",
      "warning:  skipped \"../\" path component(s) in ../data/sub-101006/func/sub-101006_task-WM_run-LR_space-MNI152NLin6Asym_res-2_desc-tfr.tfrecords\n",
      "  inflating: data/sub-101006/func/sub-101006_task-WM_run-LR_space-MNI152NLin6Asym_res-2_desc-tfr.tfrecords  \n",
      "warning:  skipped \"../\" path component(s) in ../data/sub-101107/func/sub-101107_task-WM_run-LR_space-MNI152NLin6Asym_res-2_desc-tfr.tfrecords\n",
      "  inflating: data/sub-101107/func/sub-101107_task-WM_run-LR_space-MNI152NLin6Asym_res-2_desc-tfr.tfrecords  \n",
      "warning:  skipped \"../\" path component(s) in ../data/sub-101309/func/sub-101309_task-WM_run-LR_space-MNI152NLin6Asym_res-2_desc-tfr.tfrecords\n",
      "  inflating: data/sub-101309/func/sub-101309_task-WM_run-LR_space-MNI152NLin6Asym_res-2_desc-tfr.tfrecords  \n",
      "warning:  skipped \"../\" path component(s) in ../data/sub-101410/func/sub-101410_task-WM_run-LR_space-MNI152NLin6Asym_res-2_desc-tfr.tfrecords\n",
      "  inflating: data/sub-101410/func/sub-101410_task-WM_run-LR_space-MNI152NLin6Asym_res-2_desc-tfr.tfrecords  \n",
      "warning:  skipped \"../\" path component(s) in ../data/sub-101915/func/sub-101915_task-WM_run-LR_space-MNI152NLin6Asym_res-2_desc-tfr.tfrecords\n",
      "  inflating: data/sub-101915/func/sub-101915_task-WM_run-LR_space-MNI152NLin6Asym_res-2_desc-tfr.tfrecords  \n",
      "warning:  skipped \"../\" path component(s) in ../data/sub-102008/func/sub-102008_task-WM_run-LR_space-MNI152NLin6Asym_res-2_desc-tfr.tfrecords\n",
      "  inflating: data/sub-102008/func/sub-102008_task-WM_run-LR_space-MNI152NLin6Asym_res-2_desc-tfr.tfrecords  \n",
      "warning:  skipped \"../\" path component(s) in ../data/sub-102311/func/sub-102311_task-WM_run-LR_space-MNI152NLin6Asym_res-2_desc-tfr.tfrecords\n",
      "  inflating: data/sub-102311/func/sub-102311_task-WM_run-LR_space-MNI152NLin6Asym_res-2_desc-tfr.tfrecords  \n",
      "warning:  skipped \"../\" path component(s) in ../data/sub-102816/func/sub-102816_task-WM_run-LR_space-MNI152NLin6Asym_res-2_desc-tfr.tfrecords\n",
      "  inflating: data/sub-102816/func/sub-102816_task-WM_run-LR_space-MNI152NLin6Asym_res-2_desc-tfr.tfrecords  \n",
      "warning:  skipped \"../\" path component(s) in ../data/sub-103111/func/sub-103111_task-WM_run-LR_space-MNI152NLin6Asym_res-2_desc-tfr.tfrecords\n",
      "  inflating: data/sub-103111/func/sub-103111_task-WM_run-LR_space-MNI152NLin6Asym_res-2_desc-tfr.tfrecords  \n",
      "warning:  skipped \"../\" path component(s) in ../data/sub-103414/func/sub-103414_task-WM_run-LR_space-MNI152NLin6Asym_res-2_desc-tfr.tfrecords\n",
      "  inflating: data/sub-103414/func/sub-103414_task-WM_run-LR_space-MNI152NLin6Asym_res-2_desc-tfr.tfrecords  \n",
      "warning:  skipped \"../\" path component(s) in ../data/sub-103515/func/sub-103515_task-WM_run-LR_space-MNI152NLin6Asym_res-2_desc-tfr.tfrecords\n",
      "  inflating: data/sub-103515/func/sub-103515_task-WM_run-LR_space-MNI152NLin6Asym_res-2_desc-tfr.tfrecords  \n",
      "warning:  skipped \"../\" path component(s) in ../data/sub-103818/func/sub-103818_task-WM_run-LR_space-MNI152NLin6Asym_res-2_desc-tfr.tfrecords\n",
      "  inflating: data/sub-103818/func/sub-103818_task-WM_run-LR_space-MNI152NLin6Asym_res-2_desc-tfr.tfrecords  \n",
      "warning:  skipped \"../\" path component(s) in ../data/sub-104820/func/sub-104820_task-WM_run-LR_space-MNI152NLin6Asym_res-2_desc-tfr.tfrecords\n",
      "  inflating: data/sub-104820/func/sub-104820_task-WM_run-LR_space-MNI152NLin6Asym_res-2_desc-tfr.tfrecords  \n",
      "warning:  skipped \"../\" path component(s) in ../data/sub-105014/func/sub-105014_task-WM_run-LR_space-MNI152NLin6Asym_res-2_desc-tfr.tfrecords\n",
      "  inflating: data/sub-105014/func/sub-105014_task-WM_run-LR_space-MNI152NLin6Asym_res-2_desc-tfr.tfrecords  \n",
      "warning:  skipped \"../\" path component(s) in ../data/sub-105115/func/sub-105115_task-WM_run-LR_space-MNI152NLin6Asym_res-2_desc-tfr.tfrecords\n",
      "  inflating: data/sub-105115/func/sub-105115_task-WM_run-LR_space-MNI152NLin6Asym_res-2_desc-tfr.tfrecords  \n",
      "warning:  skipped \"../\" path component(s) in ../data/sub-105216/func/sub-105216_task-WM_run-LR_space-MNI152NLin6Asym_res-2_desc-tfr.tfrecords\n",
      "  inflating: data/sub-105216/func/sub-105216_task-WM_run-LR_space-MNI152NLin6Asym_res-2_desc-tfr.tfrecords  \n",
      "warning:  skipped \"../\" path component(s) in ../data/sub-106016/func/sub-106016_task-WM_run-LR_space-MNI152NLin6Asym_res-2_desc-tfr.tfrecords\n",
      "  inflating: data/sub-106016/func/sub-106016_task-WM_run-LR_space-MNI152NLin6Asym_res-2_desc-tfr.tfrecords  \n",
      "warning:  skipped \"../\" path component(s) in ../data/sub-106319/func/sub-106319_task-WM_run-LR_space-MNI152NLin6Asym_res-2_desc-tfr.tfrecords\n",
      "  inflating: data/sub-106319/func/sub-106319_task-WM_run-LR_space-MNI152NLin6Asym_res-2_desc-tfr.tfrecords  \n"
     ]
    }
   ],
   "source": [
    "!unzip /content/drive/MyDrive/MAID/CV/data/data.zip"
   ]
  },
  {
   "cell_type": "code",
   "execution_count": null,
   "metadata": {
    "id": "_sCFO1_M2oUy"
   },
   "outputs": [],
   "source": [
    "data_path = \"data/\"\n",
    "n_states_training = 4"
   ]
  },
  {
   "cell_type": "code",
   "execution_count": null,
   "metadata": {
    "id": "t7uf6NgF3Bn7"
   },
   "outputs": [],
   "source": [
    "subjects = np.sort(\n",
    "    np.unique(\n",
    "        [int(p.split(\"sub-\")[1]) for p in os.listdir(data_path) if p.startswith(\"sub-\")]\n",
    "    )\n",
    ")"
   ]
  },
  {
   "cell_type": "code",
   "execution_count": null,
   "metadata": {
    "colab": {
     "base_uri": "https://localhost:8080/"
    },
    "executionInfo": {
     "elapsed": 8,
     "status": "ok",
     "timestamp": 1653427257971,
     "user": {
      "displayName": "faizan shaikh",
      "userId": "07685339115898994855"
     },
     "user_tz": -120
    },
    "id": "k2iNtmOV3C3T",
    "outputId": "32e51f05-b984-4f7a-bba6-20549e1bc48e"
   },
   "outputs": [
    {
     "data": {
      "text/plain": [
       "array([100307, 100408, 101006, 101107, 101309, 101410, 101915, 102008,\n",
       "       102311, 102816, 103111, 103414, 103515, 103818, 104820, 105014,\n",
       "       105115, 105216, 106016, 106319])"
      ]
     },
     "execution_count": 17,
     "metadata": {},
     "output_type": "execute_result"
    }
   ],
   "source": [
    "subjects"
   ]
  },
  {
   "cell_type": "code",
   "execution_count": null,
   "metadata": {
    "colab": {
     "base_uri": "https://localhost:8080/"
    },
    "executionInfo": {
     "elapsed": 7,
     "status": "ok",
     "timestamp": 1653427257972,
     "user": {
      "displayName": "faizan shaikh",
      "userId": "07685339115898994855"
     },
     "user_tz": -120
    },
    "id": "-mmfgOos3D9T",
    "outputId": "78e12676-20fe-48f4-99c6-3143c7c2260d"
   },
   "outputs": [
    {
     "data": {
      "text/plain": [
       "(array([106016, 100408, 105014, 103111, 101309, 101410, 106319, 105216,\n",
       "        102311, 103414, 101107, 104820, 103515, 101006, 102816]),\n",
       " array([100307, 101915, 102008, 103818, 105115]))"
      ]
     },
     "execution_count": 18,
     "metadata": {},
     "output_type": "execute_result"
    }
   ],
   "source": [
    "subjects_training = np.random.choice(\n",
    "    subjects, int(subjects.size * 3 / 4.0), replace=False\n",
    ")\n",
    "\n",
    "subjects_validation = np.array([s for s in subjects if s not in subjects_training])\n",
    "\n",
    "subjects_training, subjects_validation"
   ]
  },
  {
   "cell_type": "code",
   "execution_count": null,
   "metadata": {
    "colab": {
     "base_uri": "https://localhost:8080/"
    },
    "executionInfo": {
     "elapsed": 5,
     "status": "ok",
     "timestamp": 1653427257972,
     "user": {
      "displayName": "faizan shaikh",
      "userId": "07685339115898994855"
     },
     "user_tz": -120
    },
    "id": "DOWuyeqL3FHj",
    "outputId": "8cb4e120-d16d-4436-c636-74328e7b547e"
   },
   "outputs": [
    {
     "data": {
      "text/plain": [
       "['data/sub-106016/func/sub-106016_task-WM_run-LR_space-MNI152NLin6Asym_res-2_desc-tfr.tfrecords',\n",
       " 'data/sub-100408/func/sub-100408_task-WM_run-LR_space-MNI152NLin6Asym_res-2_desc-tfr.tfrecords',\n",
       " 'data/sub-105014/func/sub-105014_task-WM_run-LR_space-MNI152NLin6Asym_res-2_desc-tfr.tfrecords',\n",
       " 'data/sub-103111/func/sub-103111_task-WM_run-LR_space-MNI152NLin6Asym_res-2_desc-tfr.tfrecords',\n",
       " 'data/sub-101309/func/sub-101309_task-WM_run-LR_space-MNI152NLin6Asym_res-2_desc-tfr.tfrecords',\n",
       " 'data/sub-101410/func/sub-101410_task-WM_run-LR_space-MNI152NLin6Asym_res-2_desc-tfr.tfrecords',\n",
       " 'data/sub-106319/func/sub-106319_task-WM_run-LR_space-MNI152NLin6Asym_res-2_desc-tfr.tfrecords',\n",
       " 'data/sub-105216/func/sub-105216_task-WM_run-LR_space-MNI152NLin6Asym_res-2_desc-tfr.tfrecords',\n",
       " 'data/sub-102311/func/sub-102311_task-WM_run-LR_space-MNI152NLin6Asym_res-2_desc-tfr.tfrecords',\n",
       " 'data/sub-103414/func/sub-103414_task-WM_run-LR_space-MNI152NLin6Asym_res-2_desc-tfr.tfrecords',\n",
       " 'data/sub-101107/func/sub-101107_task-WM_run-LR_space-MNI152NLin6Asym_res-2_desc-tfr.tfrecords',\n",
       " 'data/sub-104820/func/sub-104820_task-WM_run-LR_space-MNI152NLin6Asym_res-2_desc-tfr.tfrecords',\n",
       " 'data/sub-103515/func/sub-103515_task-WM_run-LR_space-MNI152NLin6Asym_res-2_desc-tfr.tfrecords',\n",
       " 'data/sub-101006/func/sub-101006_task-WM_run-LR_space-MNI152NLin6Asym_res-2_desc-tfr.tfrecords',\n",
       " 'data/sub-102816/func/sub-102816_task-WM_run-LR_space-MNI152NLin6Asym_res-2_desc-tfr.tfrecords']"
      ]
     },
     "execution_count": 19,
     "metadata": {},
     "output_type": "execute_result"
    }
   ],
   "source": [
    "train_files = []\n",
    "for subject in subjects_training:\n",
    "    train_files.extend(glob(\"data/sub-\" + str(subject) + \"/func/*.tfrecords\"))\n",
    "\n",
    "train_files"
   ]
  },
  {
   "cell_type": "code",
   "execution_count": null,
   "metadata": {
    "colab": {
     "base_uri": "https://localhost:8080/"
    },
    "executionInfo": {
     "elapsed": 14,
     "status": "ok",
     "timestamp": 1653427258194,
     "user": {
      "displayName": "faizan shaikh",
      "userId": "07685339115898994855"
     },
     "user_tz": -120
    },
    "id": "e8P6Ajbg3GU6",
    "outputId": "343dbc84-fd07-4c97-a9b1-88ef062b59e7"
   },
   "outputs": [
    {
     "data": {
      "text/plain": [
       "['data/sub-100307/func/sub-100307_task-WM_run-LR_space-MNI152NLin6Asym_res-2_desc-tfr.tfrecords',\n",
       " 'data/sub-101915/func/sub-101915_task-WM_run-LR_space-MNI152NLin6Asym_res-2_desc-tfr.tfrecords',\n",
       " 'data/sub-102008/func/sub-102008_task-WM_run-LR_space-MNI152NLin6Asym_res-2_desc-tfr.tfrecords',\n",
       " 'data/sub-103818/func/sub-103818_task-WM_run-LR_space-MNI152NLin6Asym_res-2_desc-tfr.tfrecords',\n",
       " 'data/sub-105115/func/sub-105115_task-WM_run-LR_space-MNI152NLin6Asym_res-2_desc-tfr.tfrecords']"
      ]
     },
     "execution_count": 20,
     "metadata": {},
     "output_type": "execute_result"
    }
   ],
   "source": [
    "validation_files = []\n",
    "for subject in subjects_validation:\n",
    "    validation_files.extend(glob(\"data/sub-\" + str(subject) + \"/func/*.tfrecords\"))\n",
    "\n",
    "validation_files"
   ]
  },
  {
   "cell_type": "code",
   "execution_count": null,
   "metadata": {
    "id": "TZ5iQCld3Ik7"
   },
   "outputs": [],
   "source": [
    "def parse_func_tfr(\n",
    "    example_proto,\n",
    "    nx,\n",
    "    ny,\n",
    "    nz,\n",
    "    n_onehot=None,\n",
    "    onehot_idx=None,\n",
    "    only_parse_XY=False,\n",
    "    transpose_xyz=False,\n",
    "    add_channel_dim=False,\n",
    "):\n",
    "    \"\"\"Parse TFR-data\n",
    "    Args:\n",
    "        example_proto: Single example from TFR-file\n",
    "        nx, ny, nz: Integers indicating the x-/y-/z-dimensions\n",
    "            of the fMRI data stored in the TFR-files\n",
    "        n_onehot: Total number of states across tasks\n",
    "        onehot_idx: idx that is returned from state-onehot;\n",
    "            e.g., if state-onehot encoding has 20 values in total,\n",
    "            but we only want to train with values 5-10,\n",
    "            onehot_idx can be set to np.arange(4,10) \n",
    "    Returns:\n",
    "        Parsed data stored in TFR-files. Specifically, the:\n",
    "        volume: Ndarray of fMRI volume activations\n",
    "        task_id: Integer ID of the HCP task \n",
    "        subject_id: Integer ID of the subject\n",
    "        run_id: Integer ID of the run\n",
    "        tr: TR of fmri volume (float)\n",
    "        state: Integer cognitive state of the volume\n",
    "        state_onehot: One-hot encoding of the states\n",
    "        only_parse_XY: Bool indicating whether only volume \n",
    "            and y onehot encoding should be returned,\n",
    "            as needed for integration with keras. If False,\n",
    "            volume, task_id, subject_id, run_id, volume_idx,\n",
    "            label, label_onehot are returned\n",
    "    \"\"\"\n",
    "    features = {\n",
    "        \"volume\": tf.io.FixedLenFeature([nx * ny * nz], tf.float32),\n",
    "        \"task_id\": tf.io.FixedLenFeature([1], tf.int64),\n",
    "        \"subject_id\": tf.io.FixedLenFeature([1], tf.int64),\n",
    "        \"run_id\": tf.io.FixedLenFeature([1], tf.int64),\n",
    "        \"tr\": tf.io.FixedLenFeature([1], tf.float32),\n",
    "        \"state\": tf.io.FixedLenFeature([1], tf.int64),\n",
    "        \"onehot\": tf.io.FixedLenFeature([n_onehot], tf.int64),\n",
    "    }\n",
    "    parsed_features = tf.io.parse_single_example(example_proto, features)\n",
    "    if onehot_idx is None:\n",
    "        onehot_idx = np.arange(n_onehot)\n",
    "    volume = tf.cast(tf.reshape(parsed_features[\"volume\"], [nx, ny, nz]), tf.float32)\n",
    "    if add_channel_dim:\n",
    "        volume = tf.cast(\n",
    "            tf.reshape(parsed_features[\"volume\"], [nx, ny, nz, 1]), tf.float32\n",
    "        )\n",
    "        if transpose_xyz:\n",
    "            volume = tf.transpose(volume, perm=[2, 1, 0, 3])\n",
    "    elif transpose_xyz:\n",
    "        volume = tf.transpose(volume, perm=[2, 1, 0])\n",
    "    volume = tf.where(tf.math.is_nan(volume), tf.zeros_like(volume), volume)\n",
    "    volume = tf.where(tf.math.is_inf(volume), tf.ones_like(volume) * 1e4, volume)\n",
    "    onehot = tf.cast(tf.gather(parsed_features[\"onehot\"], onehot_idx), tf.int64)\n",
    "    if only_parse_XY:\n",
    "        return (volume, onehot)\n",
    "    else:\n",
    "        return {\n",
    "            \"volume\": volume,\n",
    "            \"onehot\": onehot,\n",
    "            \"task_id\": parsed_features[\"task_id\"],\n",
    "            \"subject_id\": parsed_features[\"subject_id\"],\n",
    "            \"run_id\": parsed_features[\"run_id\"],\n",
    "            \"tr\": parsed_features[\"tr\"],\n",
    "            \"state\": parsed_features[\"state\"],\n",
    "        }\n",
    "\n",
    "\n",
    "def make_dataset(\n",
    "    files,\n",
    "    n_onehot,\n",
    "    batch_size,\n",
    "    nx=91,\n",
    "    ny=109,\n",
    "    nz=91,\n",
    "    onehot_idx=None,\n",
    "    repeat=True,\n",
    "    shuffle=True,\n",
    "    only_parse_XY=False,\n",
    "    n_workers=4,\n",
    "    shuffle_buffer_size=500,\n",
    "    scope_name=\"train\",\n",
    "    transpose_xyz=False,\n",
    "    add_channel_dim=False,\n",
    "):\n",
    "    \"\"\"Make iteratable dataset from TFR files.\"\"\"\n",
    "    if onehot_idx is None:\n",
    "        onehot_idx = np.arange(n_onehot)\n",
    "    dataset = tf.data.TFRecordDataset(files)\n",
    "    dataset = dataset.map(\n",
    "        lambda x: parse_func_tfr(\n",
    "            x,\n",
    "            nx=nx,\n",
    "            ny=ny,\n",
    "            nz=nx,\n",
    "            n_onehot=n_onehot,\n",
    "            onehot_idx=onehot_idx,\n",
    "            only_parse_XY=only_parse_XY,\n",
    "            transpose_xyz=transpose_xyz,\n",
    "            add_channel_dim=add_channel_dim,\n",
    "        ),\n",
    "        n_workers,\n",
    "    )\n",
    "    # dataset = dataset.apply(tf.data.experimental.ignore_errors())\n",
    "    dataset = dataset.prefetch(tf.data.experimental.AUTOTUNE)\n",
    "    if shuffle:\n",
    "        dataset = dataset.shuffle(buffer_size=shuffle_buffer_size)\n",
    "    dataset = dataset.batch(batch_size)\n",
    "    if repeat:\n",
    "        dataset = dataset.repeat()\n",
    "    return dataset"
   ]
  },
  {
   "cell_type": "code",
   "execution_count": null,
   "metadata": {
    "id": "Bz9PxOFn3gdS"
   },
   "outputs": [],
   "source": [
    "n_onehot = 20\n",
    "n_workers = 4\n",
    "batch_size = 16\n",
    "shuffle_buffer_size = 50\n",
    "input_shape = (91, 109, 91)\n",
    "onehot_idx = np.array([16, 17, 18, 19])\n",
    "\n",
    "blocks = 5\n",
    "epochs = 50\n",
    "n_classes = 4\n",
    "training_steps = 100\n",
    "validation_steps = 100\n",
    "\n",
    "learning_rate = 0.0001"
   ]
  },
  {
   "cell_type": "code",
   "execution_count": null,
   "metadata": {
    "id": "Qdnw_RcJ3hgC"
   },
   "outputs": [],
   "source": [
    "train_dataset = make_dataset(\n",
    "    files=train_files,\n",
    "    batch_size=batch_size,\n",
    "    nx=input_shape[0],\n",
    "    ny=input_shape[1],\n",
    "    nz=input_shape[2],\n",
    "    shuffle=True,\n",
    "    only_parse_XY=True,\n",
    "    transpose_xyz=True,\n",
    "    add_channel_dim=True,\n",
    "    repeat=True,\n",
    "    n_onehot=n_onehot,\n",
    "    onehot_idx=onehot_idx,\n",
    "    shuffle_buffer_size=shuffle_buffer_size,\n",
    "    n_workers=n_workers,\n",
    ")"
   ]
  },
  {
   "cell_type": "code",
   "execution_count": null,
   "metadata": {
    "id": "Gb3C1qOi3jNq"
   },
   "outputs": [],
   "source": [
    "validation_dataset = make_dataset(\n",
    "    files=validation_files,\n",
    "    batch_size=batch_size,\n",
    "    nx=input_shape[0],\n",
    "    ny=input_shape[1],\n",
    "    nz=input_shape[2],\n",
    "    shuffle=True,\n",
    "    only_parse_XY=True,\n",
    "    transpose_xyz=True,\n",
    "    add_channel_dim=True,\n",
    "    repeat=True,\n",
    "    n_onehot=n_onehot,\n",
    "    onehot_idx=onehot_idx,\n",
    "    shuffle_buffer_size=shuffle_buffer_size,\n",
    "    n_workers=n_workers,\n",
    ")"
   ]
  },
  {
   "cell_type": "code",
   "execution_count": null,
   "metadata": {
    "id": "oPbnMv2C3ldb"
   },
   "outputs": [],
   "source": [
    "def conv_block(x, filters, kernel_size, strides, dropout_rate):\n",
    "    x = Conv3D(\n",
    "        filters=filters,\n",
    "        kernel_size=kernel_size,\n",
    "        strides=strides,\n",
    "        padding=\"same\",\n",
    "        data_format=\"channels_last\",\n",
    "        activation=\"relu\",\n",
    "    )(x)\n",
    "    x = SpatialDropout3D(rate=dropout_rate)(x)\n",
    "    x = BatchNormalization()(x)\n",
    "\n",
    "    return x"
   ]
  },
  {
   "cell_type": "code",
   "execution_count": null,
   "metadata": {
    "id": "ab7hG0wE3m06"
   },
   "outputs": [],
   "source": [
    "# create model\n",
    "\n",
    "inputs = Input(shape=[*input_shape, 1])\n",
    "\n",
    "x = conv_block(inputs, filters=2 ** 3, kernel_size=3, strides=1, dropout_rate=0.2)\n",
    "\n",
    "x = conv_block(x, filters=2 ** 3, kernel_size=3, strides=1, dropout_rate=0.2)\n",
    "\n",
    "x = conv_block(x, filters=2 ** 3, kernel_size=3, strides=2, dropout_rate=0.2)\n",
    "\n",
    "x = conv_block(x, filters=2 ** 3, kernel_size=3, strides=1, dropout_rate=0.2)\n",
    "\n",
    "x = conv_block(x, filters=2 ** 4, kernel_size=3, strides=2, dropout_rate=0.2)\n",
    "\n",
    "x = conv_block(x, filters=2 ** 4, kernel_size=3, strides=1, dropout_rate=0.2)\n",
    "\n",
    "x = conv_block(x, filters=2 ** 5, kernel_size=3, strides=2, dropout_rate=0.2)\n",
    "\n",
    "x = conv_block(x, filters=2 ** 5, kernel_size=3, strides=1, dropout_rate=0.2)\n",
    "\n",
    "x = conv_block(x, filters=2 ** 6, kernel_size=3, strides=1, dropout_rate=0.2)\n",
    "\n",
    "x = conv_block(x, filters=2 ** 7, kernel_size=3, strides=2, dropout_rate=0.2)\n",
    "\n",
    "x = conv_block(x, filters=2 ** 7, kernel_size=3, strides=1, dropout_rate=0.2)\n",
    "\n",
    "x = Conv3D(\n",
    "    filters=n_classes,\n",
    "    kernel_size=1,\n",
    "    strides=1,\n",
    "    padding=\"same\",\n",
    "    data_format=\"channels_last\",\n",
    "    activation=None,\n",
    ")(x)\n",
    "\n",
    "x = SpatialDropout3D(rate=0.2)(x)\n",
    "x = GlobalAveragePooling3D()(x)\n",
    "x = Dense(n_classes, activation=\"softmax\")(x)\n",
    "\n",
    "model = Model(inputs, x)"
   ]
  },
  {
   "cell_type": "code",
   "execution_count": null,
   "metadata": {
    "colab": {
     "base_uri": "https://localhost:8080/"
    },
    "executionInfo": {
     "elapsed": 433,
     "status": "ok",
     "timestamp": 1653427722509,
     "user": {
      "displayName": "faizan shaikh",
      "userId": "07685339115898994855"
     },
     "user_tz": -120
    },
    "id": "tT9yWMqs3wqL",
    "outputId": "5d9835fc-c8f1-47fc-85ea-7821f1e6a51f"
   },
   "outputs": [
    {
     "name": "stdout",
     "output_type": "stream",
     "text": [
      "Model: \"model_1\"\n",
      "_________________________________________________________________\n",
      " Layer (type)                Output Shape              Param #   \n",
      "=================================================================\n",
      " input_3 (InputLayer)        [(None, 91, 109, 91, 1)]  0         \n",
      "                                                                 \n",
      " conv3d_12 (Conv3D)          (None, 91, 109, 91, 8)    224       \n",
      "                                                                 \n",
      " spatial_dropout3d_12 (Spati  (None, 91, 109, 91, 8)   0         \n",
      " alDropout3D)                                                    \n",
      "                                                                 \n",
      " batch_normalization_11 (Bat  (None, 91, 109, 91, 8)   32        \n",
      " chNormalization)                                                \n",
      "                                                                 \n",
      " conv3d_13 (Conv3D)          (None, 91, 109, 91, 8)    1736      \n",
      "                                                                 \n",
      " spatial_dropout3d_13 (Spati  (None, 91, 109, 91, 8)   0         \n",
      " alDropout3D)                                                    \n",
      "                                                                 \n",
      " batch_normalization_12 (Bat  (None, 91, 109, 91, 8)   32        \n",
      " chNormalization)                                                \n",
      "                                                                 \n",
      " conv3d_14 (Conv3D)          (None, 46, 55, 46, 8)     1736      \n",
      "                                                                 \n",
      " spatial_dropout3d_14 (Spati  (None, 46, 55, 46, 8)    0         \n",
      " alDropout3D)                                                    \n",
      "                                                                 \n",
      " batch_normalization_13 (Bat  (None, 46, 55, 46, 8)    32        \n",
      " chNormalization)                                                \n",
      "                                                                 \n",
      " conv3d_15 (Conv3D)          (None, 46, 55, 46, 8)     1736      \n",
      "                                                                 \n",
      " spatial_dropout3d_15 (Spati  (None, 46, 55, 46, 8)    0         \n",
      " alDropout3D)                                                    \n",
      "                                                                 \n",
      " batch_normalization_14 (Bat  (None, 46, 55, 46, 8)    32        \n",
      " chNormalization)                                                \n",
      "                                                                 \n",
      " conv3d_16 (Conv3D)          (None, 23, 28, 23, 16)    3472      \n",
      "                                                                 \n",
      " spatial_dropout3d_16 (Spati  (None, 23, 28, 23, 16)   0         \n",
      " alDropout3D)                                                    \n",
      "                                                                 \n",
      " batch_normalization_15 (Bat  (None, 23, 28, 23, 16)   64        \n",
      " chNormalization)                                                \n",
      "                                                                 \n",
      " conv3d_17 (Conv3D)          (None, 23, 28, 23, 16)    6928      \n",
      "                                                                 \n",
      " spatial_dropout3d_17 (Spati  (None, 23, 28, 23, 16)   0         \n",
      " alDropout3D)                                                    \n",
      "                                                                 \n",
      " batch_normalization_16 (Bat  (None, 23, 28, 23, 16)   64        \n",
      " chNormalization)                                                \n",
      "                                                                 \n",
      " conv3d_18 (Conv3D)          (None, 12, 14, 12, 32)    13856     \n",
      "                                                                 \n",
      " spatial_dropout3d_18 (Spati  (None, 12, 14, 12, 32)   0         \n",
      " alDropout3D)                                                    \n",
      "                                                                 \n",
      " batch_normalization_17 (Bat  (None, 12, 14, 12, 32)   128       \n",
      " chNormalization)                                                \n",
      "                                                                 \n",
      " conv3d_19 (Conv3D)          (None, 12, 14, 12, 32)    27680     \n",
      "                                                                 \n",
      " spatial_dropout3d_19 (Spati  (None, 12, 14, 12, 32)   0         \n",
      " alDropout3D)                                                    \n",
      "                                                                 \n",
      " batch_normalization_18 (Bat  (None, 12, 14, 12, 32)   128       \n",
      " chNormalization)                                                \n",
      "                                                                 \n",
      " conv3d_20 (Conv3D)          (None, 12, 14, 12, 64)    55360     \n",
      "                                                                 \n",
      " spatial_dropout3d_20 (Spati  (None, 12, 14, 12, 64)   0         \n",
      " alDropout3D)                                                    \n",
      "                                                                 \n",
      " batch_normalization_19 (Bat  (None, 12, 14, 12, 64)   256       \n",
      " chNormalization)                                                \n",
      "                                                                 \n",
      " conv3d_21 (Conv3D)          (None, 6, 7, 6, 128)      221312    \n",
      "                                                                 \n",
      " spatial_dropout3d_21 (Spati  (None, 6, 7, 6, 128)     0         \n",
      " alDropout3D)                                                    \n",
      "                                                                 \n",
      " batch_normalization_20 (Bat  (None, 6, 7, 6, 128)     512       \n",
      " chNormalization)                                                \n",
      "                                                                 \n",
      " conv3d_22 (Conv3D)          (None, 6, 7, 6, 128)      442496    \n",
      "                                                                 \n",
      " spatial_dropout3d_22 (Spati  (None, 6, 7, 6, 128)     0         \n",
      " alDropout3D)                                                    \n",
      "                                                                 \n",
      " batch_normalization_21 (Bat  (None, 6, 7, 6, 128)     512       \n",
      " chNormalization)                                                \n",
      "                                                                 \n",
      " conv3d_23 (Conv3D)          (None, 6, 7, 6, 4)        516       \n",
      "                                                                 \n",
      " spatial_dropout3d_23 (Spati  (None, 6, 7, 6, 4)       0         \n",
      " alDropout3D)                                                    \n",
      "                                                                 \n",
      " global_average_pooling3d_1   (None, 4)                0         \n",
      " (GlobalAveragePooling3D)                                        \n",
      "                                                                 \n",
      " dense_1 (Dense)             (None, 4)                 20        \n",
      "                                                                 \n",
      "=================================================================\n",
      "Total params: 778,864\n",
      "Trainable params: 777,968\n",
      "Non-trainable params: 896\n",
      "_________________________________________________________________\n"
     ]
    }
   ],
   "source": [
    "model.summary()"
   ]
  },
  {
   "cell_type": "code",
   "execution_count": null,
   "metadata": {
    "id": "Q5xtoCzk8gZE"
   },
   "outputs": [],
   "source": [
    "stored_model = tf.keras.models.load_model(\n",
    "    \"/content/drive/MyDrive/MAID/CV/data/model-3D_DeepLight_desc-pretrained_model.hdf5\"\n",
    ")"
   ]
  },
  {
   "cell_type": "code",
   "execution_count": null,
   "metadata": {
    "colab": {
     "base_uri": "https://localhost:8080/"
    },
    "executionInfo": {
     "elapsed": 478,
     "status": "ok",
     "timestamp": 1653427726691,
     "user": {
      "displayName": "faizan shaikh",
      "userId": "07685339115898994855"
     },
     "user_tz": -120
    },
    "id": "2GXpfWsa9t3U",
    "outputId": "e3b746d0-211f-4a76-f200-f1686a2c80c6"
   },
   "outputs": [
    {
     "name": "stdout",
     "output_type": "stream",
     "text": [
      "Model: \"sequential\"\n",
      "_________________________________________________________________\n",
      " Layer (type)                Output Shape              Param #   \n",
      "=================================================================\n",
      " conv3d (Conv3D)             (None, 91, 109, 91, 8)    224       \n",
      "                                                                 \n",
      " spatial_dropout3d (SpatialD  (None, 91, 109, 91, 8)   0         \n",
      " ropout3D)                                                       \n",
      "                                                                 \n",
      " batch_normalization (BatchN  (None, 91, 109, 91, 8)   32        \n",
      " ormalization)                                                   \n",
      "                                                                 \n",
      " conv3d_1 (Conv3D)           (None, 91, 109, 91, 8)    1736      \n",
      "                                                                 \n",
      " spatial_dropout3d_1 (Spatia  (None, 91, 109, 91, 8)   0         \n",
      " lDropout3D)                                                     \n",
      "                                                                 \n",
      " batch_normalization_1 (Batc  (None, 91, 109, 91, 8)   32        \n",
      " hNormalization)                                                 \n",
      "                                                                 \n",
      " conv3d_2 (Conv3D)           (None, 46, 55, 46, 8)     1736      \n",
      "                                                                 \n",
      " spatial_dropout3d_2 (Spatia  (None, 46, 55, 46, 8)    0         \n",
      " lDropout3D)                                                     \n",
      "                                                                 \n",
      " batch_normalization_2 (Batc  (None, 46, 55, 46, 8)    32        \n",
      " hNormalization)                                                 \n",
      "                                                                 \n",
      " conv3d_3 (Conv3D)           (None, 46, 55, 46, 8)     1736      \n",
      "                                                                 \n",
      " spatial_dropout3d_3 (Spatia  (None, 46, 55, 46, 8)    0         \n",
      " lDropout3D)                                                     \n",
      "                                                                 \n",
      " batch_normalization_3 (Batc  (None, 46, 55, 46, 8)    32        \n",
      " hNormalization)                                                 \n",
      "                                                                 \n",
      " conv3d_4 (Conv3D)           (None, 23, 28, 23, 16)    3472      \n",
      "                                                                 \n",
      " spatial_dropout3d_4 (Spatia  (None, 23, 28, 23, 16)   0         \n",
      " lDropout3D)                                                     \n",
      "                                                                 \n",
      " batch_normalization_4 (Batc  (None, 23, 28, 23, 16)   64        \n",
      " hNormalization)                                                 \n",
      "                                                                 \n",
      " conv3d_5 (Conv3D)           (None, 23, 28, 23, 16)    6928      \n",
      "                                                                 \n",
      " spatial_dropout3d_5 (Spatia  (None, 23, 28, 23, 16)   0         \n",
      " lDropout3D)                                                     \n",
      "                                                                 \n",
      " batch_normalization_5 (Batc  (None, 23, 28, 23, 16)   64        \n",
      " hNormalization)                                                 \n",
      "                                                                 \n",
      " conv3d_6 (Conv3D)           (None, 12, 14, 12, 32)    13856     \n",
      "                                                                 \n",
      " spatial_dropout3d_6 (Spatia  (None, 12, 14, 12, 32)   0         \n",
      " lDropout3D)                                                     \n",
      "                                                                 \n",
      " batch_normalization_6 (Batc  (None, 12, 14, 12, 32)   128       \n",
      " hNormalization)                                                 \n",
      "                                                                 \n",
      " conv3d_7 (Conv3D)           (None, 12, 14, 12, 32)    27680     \n",
      "                                                                 \n",
      " spatial_dropout3d_7 (Spatia  (None, 12, 14, 12, 32)   0         \n",
      " lDropout3D)                                                     \n",
      "                                                                 \n",
      " batch_normalization_7 (Batc  (None, 12, 14, 12, 32)   128       \n",
      " hNormalization)                                                 \n",
      "                                                                 \n",
      " conv3d_8 (Conv3D)           (None, 6, 7, 6, 64)       55360     \n",
      "                                                                 \n",
      " spatial_dropout3d_8 (Spatia  (None, 6, 7, 6, 64)      0         \n",
      " lDropout3D)                                                     \n",
      "                                                                 \n",
      " batch_normalization_8 (Batc  (None, 6, 7, 6, 64)      256       \n",
      " hNormalization)                                                 \n",
      "                                                                 \n",
      " conv3d_9 (Conv3D)           (None, 6, 7, 6, 64)       110656    \n",
      "                                                                 \n",
      " spatial_dropout3d_9 (Spatia  (None, 6, 7, 6, 64)      0         \n",
      " lDropout3D)                                                     \n",
      "                                                                 \n",
      " batch_normalization_9 (Batc  (None, 6, 7, 6, 64)      256       \n",
      " hNormalization)                                                 \n",
      "                                                                 \n",
      " conv3d_10 (Conv3D)          (None, 3, 4, 3, 128)      221312    \n",
      "                                                                 \n",
      " spatial_dropout3d_10 (Spati  (None, 3, 4, 3, 128)     0         \n",
      " alDropout3D)                                                    \n",
      "                                                                 \n",
      " batch_normalization_10 (Bat  (None, 3, 4, 3, 128)     512       \n",
      " chNormalization)                                                \n",
      "                                                                 \n",
      " conv3d_11 (Conv3D)          (None, 3, 4, 3, 128)      442496    \n",
      "                                                                 \n",
      " spatial_dropout3d_11 (Spati  (None, 3, 4, 3, 128)     0         \n",
      " alDropout3D)                                                    \n",
      "                                                                 \n",
      " batch_normalization_11 (Bat  (None, 3, 4, 3, 128)     512       \n",
      " chNormalization)                                                \n",
      "                                                                 \n",
      " conv3d_12 (Conv3D)          (None, 3, 4, 3, 16)       2064      \n",
      "                                                                 \n",
      " activation (Activation)     (None, 3, 4, 3, 16)       0         \n",
      "                                                                 \n",
      " spatial_dropout3d_12 (Spati  (None, 3, 4, 3, 16)      0         \n",
      " alDropout3D)                                                    \n",
      "                                                                 \n",
      " global_average_pooling3d (G  (None, 16)               0         \n",
      " lobalAveragePooling3D)                                          \n",
      "                                                                 \n",
      " activation_1 (Activation)   (None, 16)                0         \n",
      "                                                                 \n",
      "=================================================================\n",
      "Total params: 891,304\n",
      "Trainable params: 890,280\n",
      "Non-trainable params: 1,024\n",
      "_________________________________________________________________\n"
     ]
    }
   ],
   "source": [
    "stored_model.summary()"
   ]
  },
  {
   "cell_type": "code",
   "execution_count": null,
   "metadata": {
    "colab": {
     "base_uri": "https://localhost:8080/"
    },
    "executionInfo": {
     "elapsed": 221,
     "status": "ok",
     "timestamp": 1653427797065,
     "user": {
      "displayName": "faizan shaikh",
      "userId": "07685339115898994855"
     },
     "user_tz": -120
    },
    "id": "Qptc_u_I9CQq",
    "outputId": "42fe5df5-ae49-482a-f1a9-427928765462"
   },
   "outputs": [
    {
     "name": "stdout",
     "output_type": "stream",
     "text": [
      "shapes dont match for conv3d_21\n",
      "shapes dont match for batch_normalization_20\n",
      "shapes dont match for conv3d_22\n",
      "shapes dont match for conv3d_23\n",
      "shapes dont match for global_average_pooling3d_1\n",
      "shapes dont match for dense_1\n"
     ]
    }
   ],
   "source": [
    "for model_layer, stored_model_layer in zip(model.layers[1:], stored_model.layers):\n",
    "    try:\n",
    "        # print(model_layer.name, stored_model_layer.name)\n",
    "        model_layer.set_weights(stored_model_layer.get_weights())\n",
    "    except:\n",
    "        print(\"shapes dont match for\", model_layer.name)"
   ]
  },
  {
   "cell_type": "code",
   "execution_count": null,
   "metadata": {
    "id": "BgZtRSBQ3yZK"
   },
   "outputs": [],
   "source": [
    "model.compile(\n",
    "    optimizer=Adam(learning_rate), loss=\"categorical_crossentropy\", metrics=[\"accuracy\"]\n",
    ")"
   ]
  },
  {
   "cell_type": "code",
   "execution_count": null,
   "metadata": {
    "colab": {
     "base_uri": "https://localhost:8080/"
    },
    "id": "nemyEJSO3zcy",
    "outputId": "b13eef08-9bcb-4e63-8ac3-3fa6094a6db9"
   },
   "outputs": [
    {
     "name": "stdout",
     "output_type": "stream",
     "text": [
      "Epoch 1/40\n",
      "100/100 [==============================] - 97s 960ms/step - loss: 0.9330 - accuracy: 0.5962 - val_loss: 0.8447 - val_accuracy: 0.6596\n",
      "Epoch 2/40\n",
      "100/100 [==============================] - 95s 956ms/step - loss: 0.9448 - accuracy: 0.6044 - val_loss: 0.8313 - val_accuracy: 0.6677\n",
      "Epoch 3/40\n",
      "100/100 [==============================] - 232s 2s/step - loss: 0.9288 - accuracy: 0.6169 - val_loss: 0.7952 - val_accuracy: 0.6922\n",
      "Epoch 4/40\n",
      "100/100 [==============================] - 257s 3s/step - loss: 0.8643 - accuracy: 0.6413 - val_loss: 0.8551 - val_accuracy: 0.6483\n",
      "Epoch 5/40\n",
      "100/100 [==============================] - 265s 3s/step - loss: 0.8201 - accuracy: 0.6650 - val_loss: 0.8060 - val_accuracy: 0.6715\n",
      "Epoch 6/40\n",
      "100/100 [==============================] - 251s 3s/step - loss: 0.8716 - accuracy: 0.6395 - val_loss: 0.7820 - val_accuracy: 0.6727\n",
      "Epoch 7/40\n",
      "100/100 [==============================] - 257s 3s/step - loss: 0.8101 - accuracy: 0.6712 - val_loss: 0.8004 - val_accuracy: 0.6715\n",
      "Epoch 8/40\n",
      "100/100 [==============================] - 265s 3s/step - loss: 0.7682 - accuracy: 0.7038 - val_loss: 0.8573 - val_accuracy: 0.6295\n",
      "Epoch 9/40\n",
      "100/100 [==============================] - 242s 2s/step - loss: 0.8292 - accuracy: 0.6564 - val_loss: 0.7675 - val_accuracy: 0.6897\n",
      "Epoch 10/40\n",
      " 63/100 [=================>............] - ETA: 47s - loss: 0.7020 - accuracy: 0.7093"
     ]
    }
   ],
   "source": [
    "history = model.fit(\n",
    "    train_dataset,\n",
    "    epochs=epochs,\n",
    "    steps_per_epoch=training_steps,\n",
    "    validation_data=validation_dataset,\n",
    "    validation_steps=validation_steps,\n",
    "    verbose=True,\n",
    "    use_multiprocessing=True,\n",
    "    workers=n_workers,\n",
    ")"
   ]
  },
  {
   "cell_type": "code",
   "execution_count": null,
   "metadata": {
    "id": "UUCE72KZ6qJ6"
   },
   "outputs": [],
   "source": []
  }
 ],
 "metadata": {
  "accelerator": "GPU",
  "colab": {
   "authorship_tag": "ABX9TyMfzMzyh3GpZvYXpex3CLUa",
   "collapsed_sections": [],
   "name": "train_deeplight3D_TF2.ipynb",
   "provenance": []
  },
  "kernelspec": {
   "display_name": "Python 3",
   "language": "python",
   "name": "python3"
  },
  "language_info": {
   "codemirror_mode": {
    "name": "ipython",
    "version": 3
   },
   "file_extension": ".py",
   "mimetype": "text/x-python",
   "name": "python",
   "nbconvert_exporter": "python",
   "pygments_lexer": "ipython3",
   "version": "3.8.8"
  }
 },
 "nbformat": 4,
 "nbformat_minor": 4
}
